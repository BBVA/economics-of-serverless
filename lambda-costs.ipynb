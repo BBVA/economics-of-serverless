{
 "cells": [
  {
   "cell_type": "code",
   "execution_count": null,
   "metadata": {},
   "outputs": [],
   "source": [
    "def get_monthly_cost(reqs, req_mem, req_time, free_tier=True):\n",
    "    free_reqs = 1000000\n",
    "    million_reqs = 1000000\n",
    "    cost_per_million_reqs = .20\n",
    "    executions = (reqs - free_reqs) if free_tier else reqs\n",
    "    if executions > 0:\n",
    "        req_costs = (executions / million_reqs) * cost_per_million_reqs\n",
    "    else:\n",
    "        req_costs = 0\n",
    "        \n",
    "    compute_seconds = reqs * (req_time / 1000)\n",
    "    compute_GB_seconds = compute_seconds * (req_mem / 1024)\n",
    "    \n",
    "    compute = (compute_GB_seconds - 400000) if free_tier else compute_GB_seconds\n",
    "    \n",
    "    cost_per_GB_seconds = 0.00001667\n",
    "    if compute > 0:\n",
    "        compute_costs = compute * cost_per_GB_seconds\n",
    "    else:\n",
    "        compute_costs = 0\n",
    "    \n",
    "    return round(req_costs + compute_costs, 2)"
   ]
  }
 ],
 "metadata": {
  "kernelspec": {
   "display_name": "Python 3",
   "language": "python",
   "name": "python3"
  },
  "language_info": {
   "codemirror_mode": {
    "name": "ipython",
    "version": 3
   },
   "file_extension": ".py",
   "mimetype": "text/x-python",
   "name": "python",
   "nbconvert_exporter": "python",
   "pygments_lexer": "ipython3",
   "version": "3.6.3"
  }
 },
 "nbformat": 4,
 "nbformat_minor": 2
}
