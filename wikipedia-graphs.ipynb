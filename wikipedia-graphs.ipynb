{
 "cells": [
  {
   "cell_type": "markdown",
   "metadata": {},
   "source": [
    "# Wikimedia data\n",
    "\n",
    "[Wikimedia Downloads: Analytics Datasets](https://dumps.wikimedia.org/other/analytics/)\n",
    "Info about Pageviews, mediacounts and unique devices:\n",
    "\n",
    "[Pageviews since may 2015](https://dumps.wikimedia.org/other/pageviews/):\n",
    "```\n",
    "https://dumps.wikimedia.org/other/pageviews/[YEAR]/[YEAR]-[2-DIGIT-MONTH]/pageviews-YYYYMMDD-HHMMSS.GZ\n",
    "```\n",
    "\n"
   ]
  },
  {
   "cell_type": "code",
   "execution_count": null,
   "metadata": {},
   "outputs": [],
   "source": [
    "import pandas as pd\n",
    "\n",
    "df = pd.read_csv(\"wikipedia-siteviews-20160101-20161231.csv\")\n",
    "\n",
    "#pd.set_option('display.float_format', lambda x: '%.2f' % x)\n",
    "\n",
    "df.describe()"
   ]
  },
  {
   "cell_type": "code",
   "execution_count": null,
   "metadata": {},
   "outputs": [],
   "source": [
    "df[\"normalised-counts\"] = df['all-projects'] / df['all-projects'].sum()\n",
    "\n",
    "#z-score\n",
    "df[\"col_zscore\"] = (df['all-projects'] - df['all-projects'].mean())/df['all-projects'].std(ddof=0)\n",
    "\n",
    "#rolling mean\n",
    "df[\"rolling\"] = df['col_zscore'].rolling(window=12, min_periods=3).mean()\n",
    "\n",
    "df.head()\n"
   ]
  },
  {
   "cell_type": "code",
   "execution_count": null,
   "metadata": {},
   "outputs": [],
   "source": [
    "df.index"
   ]
  },
  {
   "cell_type": "markdown",
   "metadata": {},
   "source": [
    "# Ahora las gráficas\n"
   ]
  },
  {
   "cell_type": "code",
   "execution_count": null,
   "metadata": {
    "collapsed": true
   },
   "outputs": [],
   "source": [
    "from bokeh.io import push_notebook, show, output_notebook\n",
    "from bokeh.plotting import figure"
   ]
  },
  {
   "cell_type": "code",
   "execution_count": null,
   "metadata": {},
   "outputs": [],
   "source": [
    "p = figure(title=\"wikipedia visits per day\")\n",
    "r = p.line(df.index, df['col_zscore'], color=\"#2222aa\", line_width=1)\n",
    "r = p.line(df.index, df['rolling'], color=\"red\", line_width=1)\n",
    "\n",
    "output_notebook()\n",
    "show(p, notebook_handle=True)\n",
    "push_notebook()"
   ]
  }
 ],
 "metadata": {
  "kernelspec": {
   "display_name": "Python 3",
   "language": "python",
   "name": "python3"
  },
  "language_info": {
   "codemirror_mode": {
    "name": "ipython",
    "version": 3
   },
   "file_extension": ".py",
   "mimetype": "text/x-python",
   "name": "python",
   "nbconvert_exporter": "python",
   "pygments_lexer": "ipython3",
   "version": "3.6.3"
  }
 },
 "nbformat": 4,
 "nbformat_minor": 2
}
