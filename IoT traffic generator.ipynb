{
 "cells": [
  {
   "cell_type": "code",
   "execution_count": null,
   "metadata": {},
   "outputs": [],
   "source": [
    "!pip install -e $PWD/awscosts"
   ]
  },
  {
   "cell_type": "code",
   "execution_count": null,
   "metadata": {},
   "outputs": [],
   "source": [
    "import pandas as pd\n",
    "from datetime import datetime\n",
    "from functools import reduce\n",
    "from itertools import groupby, chain\n",
    "from random import randint\n",
    "\n",
    "import math\n",
    "\n",
    "from iot.simulator import devices_generator, time_walker, resolution_period_finder, devices_date_stamper, devices_growth\n"
   ]
  },
  {
   "cell_type": "markdown",
   "metadata": {},
   "source": [
    "## IoT requests generation with no growth"
   ]
  },
  {
   "cell_type": "code",
   "execution_count": null,
   "metadata": {},
   "outputs": [],
   "source": [
    "device_number = 10000\n",
    "request_period_in_seconds = 3600\n",
    "start = datetime(2017, 1, 1)\n",
    "end = datetime(2017, 1, 31)\n",
    "resolution_in_seconds = 60\n",
    "\n",
    "# Create device fleet generator (lazy generates a collection of time deltas)\n",
    "devices = devices_generator(device_number, request_period_in_seconds)\n",
    "\n",
    "# Create a generator for device periodic requests\n",
    "request_period_generator = time_walker(start, request_period_in_seconds, end)\n",
    "\n",
    "# Create a \"stamper\" that fixes deltas into actual datetime stamps for a specific period\n",
    "stamper = devices_date_stamper(devices)\n",
    "\n",
    "# Create a function that returns the t0 of a period for a given time\n",
    "resolution_finder = resolution_period_finder(start, resolution_in_seconds)\n",
    "\n",
    "# flatMap = map + reduce\n",
    "all_requests = reduce(chain, map(stamper, request_period_generator), iter([]))\n",
    "\n",
    "requests_by_resolution = map(lambda x: (x[0],len(list(x[1]))), groupby(all_requests, resolution_finder))\n",
    "\n",
    "\n",
    "df = pd.DataFrame.from_records(list(requests_by_resolution), index='date', columns=['date', 'hits'])"
   ]
  },
  {
   "cell_type": "code",
   "execution_count": null,
   "metadata": {
    "scrolled": true
   },
   "outputs": [],
   "source": [
    "import awscosts\n",
    "\n",
    "MB_per_request = 128\n",
    "mylambda = awscosts.Lambda(MB_per_req=MB_per_request, ms_per_req=200)\n",
    "myec2 = awscosts.EC2(instance_type='m4.4xlarge', MB_per_req=MB_per_request)\n",
    "\n",
    "df['date'] = df.index\n",
    "df['lambda_cost'] = df.apply(lambda x: mylambda.get_cost_per_hour(date = x['date'], reqs = x['hits']), axis=1)\n",
    "df['ec2_cost'] = df.apply(lambda x: myec2.get_cost_per_hour(reqs = x['hits']), axis=1)\n",
    "df['instances'] = df.apply(lambda x: myec2.get_num_instances(reqs = x['hits']), axis=1)\n",
    "\n",
    "\n",
    "df.head()"
   ]
  },
  {
   "cell_type": "markdown",
   "metadata": {},
   "source": [
    "# IoT requests generation with growth"
   ]
  },
  {
   "cell_type": "markdown",
   "metadata": {},
   "source": [
    "## Linear growth"
   ]
  },
  {
   "cell_type": "code",
   "execution_count": null,
   "metadata": {},
   "outputs": [],
   "source": [
    "def growth_function(current_devices, i):\n",
    "    ni = int(math.floor(i * 0.01))\n",
    "    return current_devices + [randint(0, request_period_in_seconds - 1) for _ in range(0, ni)], i + ni\n",
    "\n",
    "devices = devices_generator(100, request_period_in_seconds)\n",
    "\n",
    "devices_growth_generator = devices_growth(devices, growth_function)\n",
    "\n",
    "\n",
    "stamper = devices_date_stamper(devices_growth_generator)\n"
   ]
  }
 ],
 "metadata": {
  "kernelspec": {
   "display_name": "Python 3",
   "language": "python",
   "name": "python3"
  },
  "language_info": {
   "codemirror_mode": {
    "name": "ipython",
    "version": 3
   },
   "file_extension": ".py",
   "mimetype": "text/x-python",
   "name": "python",
   "nbconvert_exporter": "python",
   "pygments_lexer": "ipython3",
   "version": "3.6.3"
  }
 },
 "nbformat": 4,
 "nbformat_minor": 2
}
