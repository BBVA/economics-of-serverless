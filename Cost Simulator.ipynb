{
 "cells": [
  {
   "cell_type": "code",
   "execution_count": null,
   "metadata": {},
   "outputs": [],
   "source": [
    "!pip install -e $PWD/awscosts"
   ]
  },
  {
   "cell_type": "code",
   "execution_count": null,
   "metadata": {},
   "outputs": [],
   "source": [
    "# dataframe-related imports\n",
    "import wikimedia_scraper as ws\n",
    "from datetime import datetime\n",
    "import pandas as pd\n",
    "import numpy as np\n",
    "\n",
    "import webish_simulator\n",
    "\n",
    "\n",
    "# plotting-related imports\n",
    "import matplotlib.pylab as plt\n",
    "%matplotlib inline"
   ]
  },
  {
   "cell_type": "markdown",
   "metadata": {},
   "source": [
    "# Get data from wikipedia source"
   ]
  },
  {
   "cell_type": "code",
   "execution_count": null,
   "metadata": {},
   "outputs": [],
   "source": [
    "project = 'en'\n",
    "\n",
    "start_date = datetime(2016, 11,  1)\n",
    "end_date   = datetime(2017, 1, 31)\n",
    "\n",
    "ws.output_notebook()\n",
    "\n",
    "traffic_generator = ws.get_traffic_generator(start_date, end_date, projects=(project,))\n",
    "df = pd.DataFrame(list(traffic_generator))\n",
    "\n",
    "df.head()"
   ]
  },
  {
   "cell_type": "code",
   "execution_count": null,
   "metadata": {},
   "outputs": [],
   "source": [
    "df = df.set_index(pd.DatetimeIndex(df['date']))\n",
    "df = df.drop(['date'], axis=1)\n",
    "df = df.loc[df['project']==project]\n",
    "\n",
    "df.head()"
   ]
  },
  {
   "cell_type": "markdown",
   "metadata": {},
   "source": [
    "## Simulate"
   ]
  },
  {
   "cell_type": "code",
   "execution_count": null,
   "metadata": {},
   "outputs": [],
   "source": [
    "month_df = webish_simulator.simulate(df, monthly_scale_factor=30000000)\n",
    "\n",
    "month_df.head()"
   ]
  },
  {
   "cell_type": "markdown",
   "metadata": {},
   "source": [
    "## Calculate costs"
   ]
  },
  {
   "cell_type": "code",
   "execution_count": null,
   "metadata": {},
   "outputs": [],
   "source": [
    "month_df = webish_simulator.get_cost(month_df, MB_per_request=512, ms_per_req=200, max_reqs_per_second=1000)\n",
    "\n",
    "month_df.tail()"
   ]
  },
  {
   "cell_type": "markdown",
   "metadata": {},
   "source": [
    "# Plot graphs"
   ]
  },
  {
   "cell_type": "code",
   "execution_count": null,
   "metadata": {},
   "outputs": [],
   "source": [
    "from plotly.offline import download_plotlyjs, init_notebook_mode, iplot\n",
    "import plotly.graph_objs as go\n",
    "\n",
    "init_notebook_mode(connected=True)\n",
    "\n",
    "layout = go.Layout(\n",
    "    title='WW Traffic Monthly Cost',\n",
    "    legend=dict(orientation=\"h\"),\n",
    "    xaxis=dict(\n",
    "        title='Day of month',\n",
    "        autorange=True\n",
    "    ),\n",
    "    yaxis=dict(\n",
    "        title='Cost ($)'\n",
    "    )\n",
    ")\n",
    "\n",
    "data = []\n",
    "\n",
    "lambda_trace = go.Scatter(\n",
    "    x=month_df.index,\n",
    "    y=month_df['lambda_sum'],\n",
    "    name='Lambda'\n",
    ")\n",
    "\n",
    "data.append(lambda_trace)\n",
    "\n",
    "ec2_trace = go.Scatter(\n",
    "    x=month_df.index,\n",
    "    y=month_df['ec2_sum'],\n",
    "    name='EC2'\n",
    ")\n",
    "\n",
    "data.append(ec2_trace)\n",
    "\n",
    "fig = go.Figure(data=data, layout=layout)\n",
    "iplot(fig)"
   ]
  }
 ],
 "metadata": {
  "kernelspec": {
   "display_name": "Python 3",
   "language": "python",
   "name": "python3"
  },
  "language_info": {
   "codemirror_mode": {
    "name": "ipython",
    "version": 3
   },
   "file_extension": ".py",
   "mimetype": "text/x-python",
   "name": "python",
   "nbconvert_exporter": "python",
   "pygments_lexer": "ipython3",
   "version": "3.6.4"
  }
 },
 "nbformat": 4,
 "nbformat_minor": 2
}
