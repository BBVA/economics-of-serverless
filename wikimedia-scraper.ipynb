{
 "cells": [
  {
   "cell_type": "markdown",
   "metadata": {},
   "source": [
    "# Wikimedia data\n",
    "Wikimedia Downloads: Analytics Datasets Info about Pageviews, mediacounts and unique devices:\n",
    "Pageviews since may 2015:\n",
    "https://dumps.wikimedia.org/other/pageviews/[YEAR]/[YEAR]-[2-DIGIT-MONTH]/projectviews-YYYYMMDD-HH0000"
   ]
  },
  {
   "cell_type": "code",
   "execution_count": null,
   "metadata": {},
   "outputs": [],
   "source": [
    "# generate URLs for download\n",
    "from datetime import datetime, timedelta\n",
    "\n",
    "def time_range(init, end):\n",
    "    while init<end:\n",
    "        yield init\n",
    "        init+=timedelta(hours=1)   \n",
    "    \n",
    "def explode_time(date):\n",
    "    return {\n",
    "        \"year\": date.year,\n",
    "        \"month\": date.month,\n",
    "        \"day\": date.day,\n",
    "        \"hour\": date.hour,\n",
    "    }\n",
    "\n",
    "def gen_url(exploded_date):\n",
    "    string = \"https://dumps.wikimedia.org/other/pageviews/{year}/{year}-\" + \\\n",
    "             \"{month:02d}/projectviews-{year}{month:02d}{day:02d}-{hour:02d}0000\"\n",
    "    return string.format(**exploded_date)\n",
    "\n",
    "exploded_dates = map(explode_time, time_range(datetime(2016,1,1), datetime(2016,1,2)))\n",
    "urls = map(gen_url, exploded_dates)\n",
    "\n",
    "#list(urls)"
   ]
  },
  {
   "cell_type": "code",
   "execution_count": null,
   "metadata": {},
   "outputs": [],
   "source": [
    "import requests\n",
    "\n",
    "def explode_url_lines(url):\n",
    "    r = requests.get(url)\n",
    "    for line in r.text.splitlines():\n",
    "        yield line\n",
    "\n",
    "def filter_wikipedia_en(line):\n",
    "    if 'en -' in line:\n",
    "        return 1\n",
    "    \n",
    "#list(map(filter_wikipedia_en, explode_url_lines(urls)))\n",
    "    \n",
    "#for url in urls:\n",
    "#    print(url)\n",
    "#    for line in explode_url_lines(url):\n",
    "#        print(line)"
   ]
  },
  {
   "cell_type": "code",
   "execution_count": null,
   "metadata": {
    "collapsed": true
   },
   "outputs": [],
   "source": []
  }
 ],
 "metadata": {
  "kernelspec": {
   "display_name": "Python 3",
   "language": "python",
   "name": "python3"
  },
  "language_info": {
   "codemirror_mode": {
    "name": "ipython",
    "version": 3
   },
   "file_extension": ".py",
   "mimetype": "text/x-python",
   "name": "python",
   "nbconvert_exporter": "python",
   "pygments_lexer": "ipython3",
   "version": "3.6.3"
  }
 },
 "nbformat": 4,
 "nbformat_minor": 2
}
