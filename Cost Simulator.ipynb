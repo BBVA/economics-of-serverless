{
 "cells": [
  {
   "cell_type": "markdown",
   "metadata": {},
   "source": [
    "# Lambda cost simulator for web-based traffic\n",
    "\n",
    "This notebook simulates a syntetic month of requests based on wikipedia traffic shape. You can tune the `monthly_scale_factor` to adjust the total number of requests for the month.\n",
    "\n",
    "After simulation, the total cost for the requests is calculated, plotting nice graphs with [plotly](https://plot.ly/).\n",
    "\n",
    "We have choosen english wikipedia as source data, as it can be a fair representation of worldwide traffic. Other languages from wikipedia can be used to localize it further."
   ]
  },
  {
   "cell_type": "markdown",
   "metadata": {},
   "source": [
    "## 0. Initial setup\n",
    "\n",
    "### Imports"
   ]
  },
  {
   "cell_type": "code",
   "execution_count": null,
   "metadata": {},
   "outputs": [],
   "source": [
    "# dataframe-related imports\n",
    "from datetime import datetime\n",
    "import pandas as pd\n",
    "import numpy as np\n",
    "\n",
    "import webish_simulator\n",
    "import wikimedia_scraper as ws"
   ]
  },
  {
   "cell_type": "markdown",
   "metadata": {},
   "source": [
    "### Plotly setup"
   ]
  },
  {
   "cell_type": "code",
   "execution_count": null,
   "metadata": {},
   "outputs": [],
   "source": [
    "from plotly.offline import download_plotlyjs, init_notebook_mode, iplot\n",
    "import plotly.graph_objs as go\n",
    "\n",
    "init_notebook_mode(connected=True)\n",
    "\n",
    "requests_date_layout = go.Layout(\n",
    "    title='Requests distribution',\n",
    "    legend=dict(orientation=\"h\"),\n",
    "    height=500,\n",
    "    xaxis=dict(\n",
    "        title='Date',\n",
    "        autorange=True,\n",
    "        type='date',\n",
    "    ),\n",
    "    yaxis=dict(\n",
    "        title='Requests'\n",
    "    )\n",
    ")\n",
    "\n",
    "day_cost_layout = go.Layout(\n",
    "    title='Monthly Cost by traffic',\n",
    "    legend=dict(orientation=\"h\"),\n",
    "    height=500,\n",
    "    xaxis=dict(\n",
    "        title='Day of month',\n",
    "        autorange=True,\n",
    "    ),\n",
    "    yaxis=dict(\n",
    "        title='Cost ($)'\n",
    "    )\n",
    ")\n",
    "\n",
    "breakeven_scale_layout = go.Layout(\n",
    "    title='Break-even - scale',\n",
    "    legend=dict(orientation=\"h\"),\n",
    "    height=500,\n",
    "    xaxis=dict(\n",
    "        title='Mean requests per second',\n",
    "        autorange=True,\n",
    "#         type='log',\n",
    "    ),\n",
    "    yaxis=dict(\n",
    "        title='% total monthly reqs to hit breakeven '\n",
    "    )\n",
    ")"
   ]
  },
  {
   "cell_type": "markdown",
   "metadata": {},
   "source": [
    "## 1.Get data from wikipedia source\n",
    "\n",
    "`ws.get_traffic_generator` connects to wikimedia and downloads traffic logs for the selected date range. Data is cached for faster access in subsequent executions.\n",
    "\n",
    "**Warning** During the first execution this could take long time!\n",
    "\n",
    "Parameters to tune:\n",
    "- `project`: project from wikipedia (language) to use.\n",
    "- `start_date` and `end_date`: date range to extract from wikipedia."
   ]
  },
  {
   "cell_type": "code",
   "execution_count": null,
   "metadata": {},
   "outputs": [],
   "source": [
    "project = 'en'\n",
    "\n",
    "start_date = datetime(2017, 1,  1)\n",
    "end_date   = datetime(2017, 12, 31)\n",
    "\n",
    "ws.output_notebook()\n",
    "\n",
    "traffic_generator = ws.get_traffic_generator(start_date, end_date, projects=(project,))\n",
    "df = pd.DataFrame(list(traffic_generator))"
   ]
  },
  {
   "cell_type": "code",
   "execution_count": null,
   "metadata": {},
   "outputs": [],
   "source": [
    "# Change DF index to a datetime index\n",
    "\n",
    "df = df.set_index(pd.DatetimeIndex(df['date']))\n",
    "df = df.drop(['date'], axis=1)\n",
    "#df = df.loc[df['project']==project]\n",
    "\n",
    "# Calculate rolling mean (week)\n",
    "df['rolling'] = df['hits'].rolling(window=24*7, min_periods=3).mean()\n",
    "\n",
    "df.head()"
   ]
  },
  {
   "cell_type": "markdown",
   "metadata": {},
   "source": [
    "### 1.1 A (random) week of Wikipedia requests"
   ]
  },
  {
   "cell_type": "code",
   "execution_count": null,
   "metadata": {},
   "outputs": [],
   "source": [
    "data = []\n",
    "\n",
    "#df2 = df.loc['2017-01-23':'2017-01-29'].hits\n",
    "#df2['rolling'] = df2['hits'].rolling(window=24, min_periods=1).mean()\n",
    "\n",
    "requests_trace = go.Scatter(\n",
    "    x=df.loc['2017-01-23':'2017-01-29'].index,\n",
    "    y=df.loc['2017-01-23':'2017-01-29'].hits,\n",
    "    name='Requests (EN)'\n",
    ")\n",
    "\n",
    "data.append(requests_trace)\n",
    "\n",
    "rolling_trace = go.Scatter(\n",
    "    x=df.loc['2017-01-23':'2017-01-29'].index,\n",
    "    y=df.loc['2017-01-23':'2017-01-29'].hits.rolling(window=24, min_periods=0).mean(),\n",
    "    name='Requests (EN - day mean)'\n",
    ")\n",
    "\n",
    "data.append(rolling_trace)\n",
    "\n",
    "# Customize date format\n",
    "requests_date_layout.title=\"Wikipedia requests distribution (one week)\"\n",
    "requests_date_layout.xaxis=dict(\n",
    "    tickformat='%a'\n",
    ")\n",
    "\n",
    "fig = go.Figure(data=data, layout=requests_date_layout)\n",
    "iplot(fig)"
   ]
  },
  {
   "cell_type": "markdown",
   "metadata": {},
   "source": [
    "### 1.2 Plot a whole year of requests of Wikipedia in english"
   ]
  },
  {
   "cell_type": "code",
   "execution_count": null,
   "metadata": {},
   "outputs": [],
   "source": [
    "data = []\n",
    "\n",
    "requests_trace = go.Scatter(\n",
    "    x=df.index,\n",
    "    y=df['hits'],\n",
    "    name='Requests (EN)'\n",
    ")\n",
    "\n",
    "data.append(requests_trace)\n",
    "\n",
    "rolling_trace = go.Scatter(\n",
    "    x=df.index,\n",
    "    y=df['rolling'],\n",
    "    name='Requests (EN - week mean)'\n",
    ")\n",
    "\n",
    "data.append(rolling_trace)\n",
    "\n",
    "# Customize date format\n",
    "requests_date_layout.title=\"Wikipedia requests\"\n",
    "requests_date_layout.xaxis=dict(\n",
    "    tickformat='%b'\n",
    ")\n",
    "\n",
    "fig = go.Figure(data=data, layout=requests_date_layout)\n",
    "iplot(fig)"
   ]
  },
  {
   "cell_type": "markdown",
   "metadata": {},
   "source": [
    "## 2. Build a synthetic month of requests\n",
    "\n",
    "Taken the wikipedia traffic shape per hour, simulate a _mean month_ whose requests distibution have the shape of the selected wikipedia project.\n",
    "\n",
    "The resulting scale (i.e. the same total amount of requests in a month) is configurable.\n",
    "\n",
    "Note: The scale (total reqs in a month) can be controlled by using the param `monthly_scale_factor` in `webish_simulator.simulate`"
   ]
  },
  {
   "cell_type": "code",
   "execution_count": null,
   "metadata": {},
   "outputs": [],
   "source": [
    "#month_df = webish_simulator.simulate(df)\n",
    "monthly_scale_factor=90000000\n",
    "month_df = webish_simulator.simulate(df, monthly_scale_factor=monthly_scale_factor)\n",
    "\n",
    "\n",
    "month_df.head()"
   ]
  },
  {
   "cell_type": "markdown",
   "metadata": {},
   "source": [
    "### 2.1 Plot synthetic month"
   ]
  },
  {
   "cell_type": "code",
   "execution_count": null,
   "metadata": {},
   "outputs": [],
   "source": [
    "data = []\n",
    "\n",
    "requests_trace = go.Scatter(\n",
    "    x=month_df.index,\n",
    "    y=month_df.requests,\n",
    "    name='Requests'\n",
    ")\n",
    "\n",
    "data.append(requests_trace)\n",
    "\n",
    "rolling_trace = go.Scatter(\n",
    "    x=month_df.index,\n",
    "    y=month_df.requests.rolling(window=24, min_periods=0).mean(),\n",
    "    name='Requests (day mean)'\n",
    ")\n",
    "\n",
    "data.append(rolling_trace)\n",
    "\n",
    "# Customize date format\n",
    "requests_date_layout.title=\"Requests distribution (synthetic)\"\n",
    "requests_date_layout.xaxis=dict(\n",
    "    tickformat='%d'\n",
    ")\n",
    "\n",
    "fig = go.Figure(data=data, layout=requests_date_layout)\n",
    "iplot(fig)"
   ]
  },
  {
   "cell_type": "markdown",
   "metadata": {},
   "source": [
    "### 2.2 Calculate costs"
   ]
  },
  {
   "cell_type": "code",
   "execution_count": null,
   "metadata": {
    "scrolled": false
   },
   "outputs": [],
   "source": [
    "ec2_flavors = {\n",
    "    'm3.medium': 1000,\n",
    "    'm4.large': 1500,\n",
    "    'm4.xlarge': 2000,\n",
    "}\n",
    "\n",
    "month_df = webish_simulator.get_lambda_cost(month_df, MB_per_request=128, ms_per_req=200)\n",
    "\n",
    "for flavor,reqs in ec2_flavors.items():\n",
    "    month_df = webish_simulator.get_ec2_cost(month_df, flavor=flavor, max_reqs_per_second=reqs )\n",
    "    month_df[flavor+'_break_even'] = month_df['lambda_sum'] - month_df[flavor+'_sum']\n",
    "\n",
    "month_df.tail()"
   ]
  },
  {
   "cell_type": "markdown",
   "metadata": {},
   "source": [
    "### 2.3 Plot costs (synthetic year)"
   ]
  },
  {
   "cell_type": "code",
   "execution_count": null,
   "metadata": {
    "scrolled": false
   },
   "outputs": [],
   "source": [
    "# TODO: Show number of instances in \n",
    "data = []\n",
    "\n",
    "lambda_trace = go.Scatter(\n",
    "    x=month_df.index,\n",
    "    y=month_df['lambda_sum'],\n",
    "    name='Lambda'\n",
    ")\n",
    "\n",
    "data.append(lambda_trace)\n",
    "\n",
    "for flavor in ec2_flavors.keys():\n",
    "    ec2_trace = go.Scatter(\n",
    "        x=month_df.index,\n",
    "        y=month_df[flavor+'_sum'],\n",
    "        name=flavor\n",
    "    )\n",
    "\n",
    "    data.append(ec2_trace)\n",
    "\n",
    "# Customize date format\n",
    "day_cost_layout.xaxis=dict(\n",
    "    tickformat='%d'\n",
    ")\n",
    "    \n",
    "fig = go.Figure(data=data, layout=day_cost_layout)\n",
    "iplot(fig)"
   ]
  },
  {
   "cell_type": "markdown",
   "metadata": {},
   "source": [
    "# Simulate multiple scenarios with different total requests in a month"
   ]
  },
  {
   "cell_type": "code",
   "execution_count": null,
   "metadata": {
    "scrolled": true
   },
   "outputs": [],
   "source": [
    "x, y = webish_simulator.get_breakeven(df, range(0, 200000000, 500000), ec2_flavors)\n",
    "\n",
    "# devices_list = np.logspace(0, 100000000, num=10, endpoint=True, base=10.0)"
   ]
  },
  {
   "cell_type": "code",
   "execution_count": null,
   "metadata": {
    "scrolled": false
   },
   "outputs": [],
   "source": [
    "data = []\n",
    "for flavor, breakeven_points in y.items():\n",
    "    breakeven_trace = go.Scatter(\n",
    "        x=x,\n",
    "        y=breakeven_points,\n",
    "        name=flavor,\n",
    "    )\n",
    "    data.append(breakeven_trace)\n",
    "    \n",
    "fig = go.Figure(data=data, layout=breakeven_scale_layout)\n",
    "\n",
    "iplot(fig)"
   ]
  }
 ],
 "metadata": {
  "kernelspec": {
   "display_name": "Python 3",
   "language": "python",
   "name": "python3"
  },
  "language_info": {
   "codemirror_mode": {
    "name": "ipython",
    "version": 3
   },
   "file_extension": ".py",
   "mimetype": "text/x-python",
   "name": "python",
   "nbconvert_exporter": "python",
   "pygments_lexer": "ipython3",
   "version": "3.6.4"
  }
 },
 "nbformat": 4,
 "nbformat_minor": 2
}
