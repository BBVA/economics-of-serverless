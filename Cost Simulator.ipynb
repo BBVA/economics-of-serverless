{
 "cells": [
  {
   "cell_type": "code",
   "execution_count": null,
   "metadata": {},
   "outputs": [],
   "source": [
    "!pip install -e $PWD/awscosts"
   ]
  },
  {
   "cell_type": "code",
   "execution_count": null,
   "metadata": {},
   "outputs": [],
   "source": [
    "# dataframe-related imports\n",
    "import wikimedia_scraper as ws\n",
    "from datetime import datetime\n",
    "import pandas as pd\n",
    "import numpy as np\n",
    "from datetime import timedelta\n",
    "\n",
    "import webish_simulator\n",
    "\n",
    "\n",
    "# plotting-related imports\n",
    "import matplotlib.pylab as plt\n",
    "%matplotlib inline\n",
    "\n",
    "from bokeh.io import push_notebook, show, output_notebook\n",
    "from bokeh.plotting import figure\n",
    "\n",
    "from bokeh.models import DatetimeTickFormatter, NumeralTickFormatter, BasicTickFormatter\n",
    "from bokeh.models.tickers import FixedTicker"
   ]
  },
  {
   "cell_type": "markdown",
   "metadata": {},
   "source": [
    "# Get data from wikipedia source"
   ]
  },
  {
   "cell_type": "code",
   "execution_count": null,
   "metadata": {},
   "outputs": [],
   "source": [
    "project = 'en'\n",
    "\n",
    "start_date = datetime(2016, 11,  1)\n",
    "end_date   = datetime(2017, 1, 31)\n",
    "\n",
    "ws.output_notebook()\n",
    "\n",
    "traffic_generator = ws.get_traffic_generator(start_date, end_date, projects=(project,))\n",
    "df = pd.DataFrame(list(traffic_generator))\n",
    "\n",
    "df.head()"
   ]
  },
  {
   "cell_type": "code",
   "execution_count": null,
   "metadata": {},
   "outputs": [],
   "source": [
    "df = df.set_index(pd.DatetimeIndex(df['date']))\n",
    "df = df.drop(['date'], axis=1)\n",
    "df = df.loc[df['project']==project]\n",
    "\n",
    "df.head()"
   ]
  },
  {
   "cell_type": "code",
   "execution_count": null,
   "metadata": {},
   "outputs": [],
   "source": [
    "month_df = webish_simulator.simulate(df, monthly_scale_factor=50000000)\n",
    "# month_df = webish_simulator.simulate(df)\n",
    "\n",
    "month_df.head()"
   ]
  },
  {
   "cell_type": "code",
   "execution_count": null,
   "metadata": {},
   "outputs": [],
   "source": [
    "# plotting avg week\n",
    "\n",
    "# week_plot = figure(title=\"wikipedia average week costs\", x_axis_type=\"datetime\")\n",
    "\n",
    "# week_plot.yaxis.formatter = BasicTickFormatter(use_scientific=False)\n",
    "\n",
    "# week_plot.xaxis.formatter = DatetimeTickFormatter(\n",
    "#         hours  = [ '%R'    ],\n",
    "#         days   = [ '%a'    ],\n",
    "#         months = [ '%a %H' ],\n",
    "# )\n",
    "\n",
    "# week_plot.yaxis[0].formatter = NumeralTickFormatter(format='0.000a')\n",
    "\n",
    "# avg_week_data = week_plot.line(df3.index, df3['lambda_sum'], color=\"#2222aa\", line_width=1)\n",
    "# avg_week_data = week_plot.line(df3.index, df3['ec2_sum'], color=\"black\", line_width=1)\n",
    "\n",
    "# output_notebook()\n",
    "# show(week_plot, notebook_handle=True)\n",
    "# push_notebook()\n",
    "\n",
    "plt.plot(month_df['lambda_sum'], color='blue', label='hits')\n",
    "plt.plot(month_df['ec2_sum'], color='red',label='Original')\n"
   ]
  }
 ],
 "metadata": {
  "kernelspec": {
   "display_name": "Python 3",
   "language": "python",
   "name": "python3"
  },
  "language_info": {
   "codemirror_mode": {
    "name": "ipython",
    "version": 3
   },
   "file_extension": ".py",
   "mimetype": "text/x-python",
   "name": "python",
   "nbconvert_exporter": "python",
   "pygments_lexer": "ipython3",
   "version": "3.6.4"
  }
 },
 "nbformat": 4,
 "nbformat_minor": 2
}
