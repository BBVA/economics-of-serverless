{
 "cells": [
  {
   "cell_type": "markdown",
   "metadata": {},
   "source": [
    "# Wikimedia data\n",
    "\n",
    "- [Wikimedia Downloads: Analytics Datasets](https://dumps.wikimedia.org/other/analytics/)\n",
    "Info about Pageviews, mediacounts and unique devices:\n",
    "- [Pageviews since may 2015](https://dumps.wikimedia.org/other/pageviews/):\n",
    "```\n",
    "https://dumps.wikimedia.org/other/pageviews/[YEAR]/[YEAR]-[2-DIGIT-MONTH]/pageviews-YYYYMMDD-HHMMSS.GZ\n",
    "```\n",
    "\n",
    "- [Siteviews interactive analysis](https://tools.wmflabs.org/siteviews/?platform=all-access&source=pageviews&agent=all-agents&start=2015-07&end=2017-09&sites=all-projects)\n",
    "\n",
    "## Running this notebook:\n",
    "\n",
    "Dependencies:\n",
    "- Bokeh\n",
    "- Pandas\n",
    "\n",
    "Enable widgetsnbextension: \n",
    "```\n",
    "$ jupyter nbextension enable --py --sys-prefix widgetsnbextension\n",
    "```\n"
   ]
  },
  {
   "cell_type": "code",
   "execution_count": null,
   "metadata": {
    "collapsed": true
   },
   "outputs": [],
   "source": [
    "# dataframe-related imports\n",
    "import wikimedia_scraper as ws\n",
    "from datetime import datetime\n",
    "import pandas as pd\n",
    "import numpy as np\n",
    "from datetime import timedelta"
   ]
  },
  {
   "cell_type": "code",
   "execution_count": null,
   "metadata": {
    "collapsed": true
   },
   "outputs": [],
   "source": [
    "# plotting-related imports\n",
    "from bokeh.io import push_notebook, show, output_notebook\n",
    "from bokeh.plotting import figure\n",
    "\n",
    "from bokeh.models import DatetimeTickFormatter, NumeralTickFormatter, BasicTickFormatter\n",
    "from bokeh.models.tickers import FixedTicker"
   ]
  },
  {
   "cell_type": "markdown",
   "metadata": {},
   "source": [
    "## Get data source"
   ]
  },
  {
   "cell_type": "code",
   "execution_count": null,
   "metadata": {},
   "outputs": [],
   "source": [
    "# use New Wikipedia scrapper and store in a dataframe\n",
    "\n",
    "start_date = datetime(2016, 11,  1)\n",
    "end_date   = datetime(2017, 10, 30)\n",
    "\n",
    "ws.output_notebook()\n",
    "\n",
    "traffic_generator = ws.get_traffic_generator(start_date, end_date, projects=('en',))\n",
    "df = pd.DataFrame(list(traffic_generator))\n",
    "\n",
    "df.head()"
   ]
  },
  {
   "cell_type": "code",
   "execution_count": null,
   "metadata": {},
   "outputs": [],
   "source": [
    "# set date as index \n",
    "\n",
    "df = df.set_index(pd.DatetimeIndex(df['date']))\n",
    "df = df.drop(['date'], axis=1)\n",
    "df = df.loc[df['project']=='en']\n",
    "\n",
    "df.head()"
   ]
  },
  {
   "cell_type": "code",
   "execution_count": null,
   "metadata": {},
   "outputs": [],
   "source": [
    "# z-score (not really meaningful for this study)\n",
    "#df[\"col_zscore\"] = (df['hits'] - df['hits'].mean())/df['hits'].std(ddof=0)\n",
    "\n",
    "# Filtering between dates example (not used for now)\n",
    "#mask = (df.index >= '2017-05-22 15:00:00') & (df.index <= '2017-05-23 5:00:00')\n",
    "\n",
    "#filtered_df = df.loc[mask]"
   ]
  },
  {
   "cell_type": "markdown",
   "metadata": {},
   "source": [
    "## Yearly hits data normalization & plotting"
   ]
  },
  {
   "cell_type": "code",
   "execution_count": null,
   "metadata": {},
   "outputs": [],
   "source": [
    "# need to convert types to avoid a INF value while computing mean value (too big number?)\n",
    "df['hits'] = df['hits'].astype(float)\n",
    "\n",
    "# rolling mean\n",
    "df['normalized_hits'] = df['hits'].astype(float)/df['hits'].astype(int).sum()\n",
    "df['rolling'] = df['normalized_hits'].rolling(window=24*7, min_periods=3).mean()\n",
    "\n",
    "df.head()"
   ]
  },
  {
   "cell_type": "code",
   "execution_count": null,
   "metadata": {},
   "outputs": [],
   "source": [
    "# plotting yearly data\n",
    "year_plot = figure(title=\"wikipedia visits per hour\", x_axis_type=\"datetime\")\n",
    "\n",
    "year_plot.yaxis.formatter = BasicTickFormatter(use_scientific=False)\n",
    "\n",
    "year_plot.xaxis.formatter = DatetimeTickFormatter(\n",
    "        hours  = [ '%R'    ],\n",
    "        days   = [ '%d %b' ],\n",
    "        months = [ '%b'    ],\n",
    "        years  = [ '%a %H' ],\n",
    ")\n",
    "\n",
    "year_zscore_data = year_plot.line(df.index, df['normalized_hits'], color=\"#2222aa\", line_width=1)\n",
    "year_rolling_data = year_plot.line(df.index, df['rolling'], color=\"red\", line_width=1)\n",
    "\n",
    "output_notebook()\n",
    "show(year_plot, notebook_handle=True)\n",
    "push_notebook()"
   ]
  },
  {
   "cell_type": "markdown",
   "metadata": {},
   "source": [
    "## The \"_Average week_\" calculation"
   ]
  },
  {
   "cell_type": "code",
   "execution_count": null,
   "metadata": {},
   "outputs": [],
   "source": [
    "# Add new columns based on date index\n",
    "df['weekday'] = df.index.weekday_name\n",
    "df['hour']    = df.index.hour\n",
    "\n",
    "startdate = datetime(1970,1,5)\n",
    "days = ('Monday', 'Tuesday', 'Wednesday', 'Thursday', 'Friday', 'Saturday', 'Sunday')\n",
    "\n",
    "df3 = pd.DataFrame()\n",
    "\n",
    "for day in days:\n",
    "    dfx1 = pd.DataFrame(index=pd.date_range(start=startdate, periods=24, freq='H'), columns=['hits'])\n",
    "    hitmeans = df.loc[df['weekday']==day].groupby('hour')['hits'].mean()\n",
    "    dfx1['hits'] = np.array(hitmeans)\n",
    "    startdate += timedelta(days=1)\n",
    "    df3 = pd.concat([df3,dfx1])\n",
    "\n",
    "df3['normalized_hits'] = df3['hits'].astype(float)/df3['hits'].astype(int).sum()\n",
    "df3['rolling'] = df3['normalized_hits'].rolling(window=24, min_periods=3).mean()"
   ]
  },
  {
   "cell_type": "code",
   "execution_count": null,
   "metadata": {},
   "outputs": [],
   "source": [
    "# plotting avg week\n",
    "\n",
    "avg_week_plot = figure(title=\"wikipedia average week (normalized)\", x_axis_type=\"datetime\")\n",
    "\n",
    "avg_week_plot.yaxis.formatter = BasicTickFormatter(use_scientific=False)\n",
    "\n",
    "avg_week_plot.xaxis.formatter = DatetimeTickFormatter(\n",
    "        hours  = [ '%R'    ],\n",
    "        days   = [ '%a'    ],\n",
    "        months = [ '%a %H' ],\n",
    ")\n",
    "\n",
    "avg_week_plot.yaxis[0].formatter = NumeralTickFormatter(format='0.000a')\n",
    "\n",
    "avg_week_data = avg_week_plot.line(df3.index, df3['normalized_hits'], color=\"#2222aa\", line_width=1)\n",
    "avg_week_rolling_data = avg_week_plot.line(df3.index, df3['rolling'], color=\"red\", line_width=1)\n",
    "\n",
    "output_notebook()\n",
    "show(avg_week_plot, notebook_handle=True)\n",
    "push_notebook()"
   ]
  },
  {
   "cell_type": "markdown",
   "metadata": {},
   "source": [
    "## Construct a synthetic year"
   ]
  },
  {
   "cell_type": "code",
   "execution_count": null,
   "metadata": {},
   "outputs": [],
   "source": [
    "# FIXME: datetime.now() has to be replaced with the last monday at 0:00\n",
    "dfy = pd.DataFrame(index=pd.date_range(start=datetime.now(), periods=52*7*24, freq='H'), columns=['normalized_hits'])\n",
    "dfy['normalized_hits'] = list(df3['normalized_hits']) * 52"
   ]
  },
  {
   "cell_type": "code",
   "execution_count": null,
   "metadata": {},
   "outputs": [],
   "source": [
    "# plotting yearly data\n",
    "synthetic_year_plot = figure(title=\"wikipedia visits per hour\", x_axis_type=\"datetime\")\n",
    "\n",
    "synthetic_year_plot.yaxis.formatter = BasicTickFormatter(use_scientific=False)\n",
    "\n",
    "synthetic_year_plot.xaxis.formatter = DatetimeTickFormatter(\n",
    "        hours  = [ '%R'    ],\n",
    "        days   = [ '%d %b' ],\n",
    "        months = [ '%b'    ],\n",
    "        years  = [ '%a %H' ],\n",
    ")\n",
    "\n",
    "year_zscore_data = synthetic_year_plot.line(dfy.index, dfy['normalized_hits'], color=\"#2222aa\", line_width=1)\n",
    "#year_rolling_data = year_plot.line(df.index, dfy['rolling'], color=\"red\", line_width=1)\n",
    "\n",
    "output_notebook()\n",
    "show(synthetic_year_plot, notebook_handle=True)\n",
    "push_notebook()"
   ]
  },
  {
   "cell_type": "code",
   "execution_count": null,
   "metadata": {
    "collapsed": true
   },
   "outputs": [],
   "source": []
  }
 ],
 "metadata": {
  "kernelspec": {
   "display_name": "Python 3",
   "language": "python",
   "name": "python3"
  },
  "language_info": {
   "codemirror_mode": {
    "name": "ipython",
    "version": 3
   },
   "file_extension": ".py",
   "mimetype": "text/x-python",
   "name": "python",
   "nbconvert_exporter": "python",
   "pygments_lexer": "ipython3",
   "version": "3.6.3"
  }
 },
 "nbformat": 4,
 "nbformat_minor": 2
}
