{
 "cells": [
  {
   "cell_type": "markdown",
   "metadata": {},
   "source": [
    "# Wikimedia data\n",
    "\n",
    "- [Wikimedia Downloads: Analytics Datasets](https://dumps.wikimedia.org/other/analytics/)\n",
    "Info about Pageviews, mediacounts and unique devices:\n",
    "- [Pageviews since may 2015](https://dumps.wikimedia.org/other/pageviews/):\n",
    "```\n",
    "https://dumps.wikimedia.org/other/pageviews/[YEAR]/[YEAR]-[2-DIGIT-MONTH]/pageviews-YYYYMMDD-HHMMSS.GZ\n",
    "```\n",
    "\n",
    "- [Siteviews interactive analysis](https://tools.wmflabs.org/siteviews/?platform=all-access&source=pageviews&agent=all-agents&start=2015-07&end=2017-09&sites=all-projects)\n",
    "\n",
    "## Running this notebook:\n",
    "\n",
    "Dependencies:\n",
    "- Bokeh\n",
    "- Pandas\n",
    "\n",
    "Enable widgetsnbextension: \n",
    "```\n",
    "$ jupyter nbextension enable --py --sys-prefix widgetsnbextension\n",
    "```\n"
   ]
  },
  {
   "cell_type": "code",
   "execution_count": null,
   "metadata": {
    "collapsed": true
   },
   "outputs": [],
   "source": [
    "# use New Wikipedia scrapper and store in a dataframe\n",
    "import wikimedia_scraper as ws\n",
    "from datetime import datetime\n",
    "import pandas as pd\n",
    "\n",
    "start_date = datetime(2016,10,31)\n",
    "end_date  = datetime(2016,11,30)\n",
    "\n",
    "ws.output_notebook()\n",
    "\n",
    "traffic_generator = ws.get_traffic_generator(start_date, end_date)\n",
    "df = pd.DataFrame(list(traffic_generator))"
   ]
  },
  {
   "cell_type": "code",
   "execution_count": null,
   "metadata": {
    "collapsed": true
   },
   "outputs": [],
   "source": [
    "#df = df.set_index(['date'])\n",
    "#df.index = pd.DatetimeIndex(df.date)\n",
    "\n",
    "df = df.set_index(pd.DatetimeIndex(df['date']))\n",
    "df = df.drop(['date'], axis=1)\n",
    "df = df.loc[df['project']=='es']\n",
    "\n",
    "df.describe()"
   ]
  },
  {
   "cell_type": "code",
   "execution_count": null,
   "metadata": {
    "collapsed": true
   },
   "outputs": [],
   "source": [
    "# need to convert types to avoid a INF value while computing mean value (too big number?)\n",
    "df['hits']=df['hits'].astype(float)\n",
    "\n",
    "#z-score\n",
    "df[\"col_zscore\"] = (df['hits'] - df['hits'].mean())/df['hits'].std(ddof=0)\n",
    "\n",
    "#rolling mean\n",
    "df[\"rolling\"] = df['col_zscore'].rolling(window=24*7, min_periods=3).mean()\n",
    "\n",
    "df.head()"
   ]
  },
  {
   "cell_type": "code",
   "execution_count": null,
   "metadata": {
    "collapsed": true
   },
   "outputs": [],
   "source": [
    "# Filtering between dates\n",
    "mask = (df.index >= '2017-05-22 15:00:00') & (df.index <= '2017-05-23 5:00:00')\n",
    "df.loc[mask]"
   ]
  },
  {
   "cell_type": "markdown",
   "metadata": {},
   "source": [
    "# Ahora las gráficas\n"
   ]
  },
  {
   "cell_type": "code",
   "execution_count": null,
   "metadata": {
    "collapsed": true
   },
   "outputs": [],
   "source": [
    "from bokeh.io import push_notebook, show, output_notebook\n",
    "from bokeh.plotting import figure\n",
    "\n",
    "from bokeh.models import DatetimeTickFormatter"
   ]
  },
  {
   "cell_type": "code",
   "execution_count": null,
   "metadata": {
    "collapsed": true
   },
   "outputs": [],
   "source": [
    "p = figure(title=\"wikipedia visits per hour\")\n",
    "\n",
    "p.xaxis.formatter=DatetimeTickFormatter(\n",
    "        hours=[\"%h %d %B %Y\"],\n",
    "        days=[\"%d %B %Y\"],\n",
    "        months=[\"%d %B %Y\"],\n",
    "        years=[\"%d %B %Y\"],\n",
    "    )\n",
    "\n",
    "r = p.line(df.index, df['col_zscore'], color=\"#2222aa\", line_width=1)\n",
    "r = p.line(df.index, df['rolling'], color=\"red\", line_width=1)\n",
    "\n",
    "output_notebook()\n",
    "show(p, notebook_handle=True)\n",
    "push_notebook()\n"
   ]
  }
 ],
 "metadata": {
  "kernelspec": {
   "display_name": "Python 3",
   "language": "python",
   "name": "python3"
  },
  "language_info": {
   "codemirror_mode": {
    "name": "ipython",
    "version": 3
   },
   "file_extension": ".py",
   "mimetype": "text/x-python",
   "name": "python",
   "nbconvert_exporter": "python",
   "pygments_lexer": "ipython3",
   "version": "3.6.3"
  }
 },
 "nbformat": 4,
 "nbformat_minor": 2
}
