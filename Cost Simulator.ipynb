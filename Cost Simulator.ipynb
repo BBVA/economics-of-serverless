{
 "cells": [
  {
   "cell_type": "markdown",
   "metadata": {},
   "source": [
    "# Serverless cost simulator for web-based traffic\n",
    "\n",
    "This notebook simulates a syntetic month of requests based on wikipedia traffic shape. You can tune the `monthly_scale_factor` to adjust the total number of requests for the month.\n",
    "\n",
    "After simulation, the total cost for the requests is calculated, plotting nice graphs with [plotly](https://plot.ly/).\n",
    "\n",
    "We have choosen english wikipedia as source data, as it can be a fair representation of worldwide traffic. Other languages from wikipedia can be used to localize it further.\n",
    "\n",
    "**TO-DO:**\n",
    "- Study if datetime objects are really necessary\n",
    "- Replace datetime.now with some other date\n"
   ]
  },
  {
   "cell_type": "markdown",
   "metadata": {},
   "source": [
    "## 0. Initial setup\n",
    "\n",
    "### Imports"
   ]
  },
  {
   "cell_type": "code",
   "execution_count": null,
   "metadata": {},
   "outputs": [],
   "source": [
    "# dataframe-related imports\n",
    "from datetime import datetime\n",
    "import pandas as pd\n",
    "import numpy as np\n",
    "\n",
    "import webish_simulator\n",
    "import wikimedia_scraper as ws"
   ]
  },
  {
   "cell_type": "markdown",
   "metadata": {},
   "source": [
    "## User variables"
   ]
  },
  {
   "cell_type": "code",
   "execution_count": null,
   "metadata": {},
   "outputs": [],
   "source": [
    "# Wikipedia project language\n",
    "wikipedia_language = 'en'\n",
    "lambda_memory = 128 # MiB\n",
    "lambda_time = 200 # ms\n",
    "\n",
    "\n",
    "image_type = None\n",
    "# Uncomment next line to produce pngs\n",
    "# image_type = 'png'\n"
   ]
  },
  {
   "cell_type": "markdown",
   "metadata": {},
   "source": [
    "### Plotly setup"
   ]
  },
  {
   "cell_type": "code",
   "execution_count": null,
   "metadata": {},
   "outputs": [],
   "source": [
    "from plotly.offline import download_plotlyjs, init_notebook_mode, iplot\n",
    "import plotly.graph_objs as go\n",
    "\n",
    "init_notebook_mode(connected=True)\n",
    "\n",
    "common_layout = go.Layout(\n",
    "    legend=dict(\n",
    "        orientation=\"h\",\n",
    "        y=-.2,\n",
    "    ),\n",
    "    xaxis=dict(\n",
    "        autorange=True,\n",
    "        type='date',\n",
    "        anchor='free',\n",
    "    ),\n",
    ")\n",
    "\n",
    "requests_date_layout = go.Layout(common_layout)\n",
    "requests_date_layout.title = 'Requests distribution'\n",
    "requests_date_layout.xaxis.title = 'Time'\n",
    "requests_date_layout.yaxis.title = '# Requests'\n",
    "\n",
    "time_cost_layout = go.Layout(common_layout)\n",
    "time_cost_layout.xaxis.title = 'Time'\n",
    "time_cost_layout.yaxis.title ='Cost ($)'\n",
    "\n",
    "breakeven_scale_layout = go.Layout(common_layout)\n",
    "breakeven_scale_layout.title = 'Break-even - scale',\n",
    "breakeven_scale_layout.xaxis.title = 'AVG. reqs. per second'\n",
    "breakeven_scale_layout.xaxis.type = 'linear'\n",
    "breakeven_scale_layout.yaxis.title = '% total monthly reqs to hit breakeven '\n",
    "\n",
    "# Colors and styles:\n",
    "BBVAcore = dict(color = '#072146')\n",
    "BBVAnavy = dict(color = '#004481')\n",
    "BBVAaqua = dict(color = '#2dcccd')\n",
    "BBVAmedium = dict(color = '#2A86CA')\n",
    "BBVAlight = dict(color = '#5BBEFF')\n",
    "BBVAred = dict(color = '#da3851')\n",
    "BBVAcoral = dict(color = '#f35e61')\n",
    "BBVAorange = dict(color = '#f7893b')\n",
    "BBVAgreen = dict(color = '#48ae64')\n",
    "BBVAyellow = dict(color = '#f8cd51')\n",
    "BBVApink = dict(color = '#f78be8')\n",
    "BBVAgold = dict(color = '#d8be75')\n",
    "BBVApurple = dict(color = '#8f7ae5')"
   ]
  },
  {
   "cell_type": "markdown",
   "metadata": {},
   "source": [
    "## 1.Get data from wikipedia source\n",
    "\n",
    "`ws.get_traffic_generator` connects to wikimedia and downloads traffic logs for the selected date range. Data is cached for faster access in subsequent executions.\n",
    "\n",
    "**Warning** During the first execution this could take long time!\n",
    "\n",
    "Parameters to tune:\n",
    "- `project`: project from wikipedia (language) to use.\n",
    "- `start_date` and `end_date`: date range to extract from wikipedia."
   ]
  },
  {
   "cell_type": "code",
   "execution_count": null,
   "metadata": {},
   "outputs": [],
   "source": [
    "project = wikipedia_language\n",
    "\n",
    "start_date = datetime(2017,  1,  1)\n",
    "end_date   = datetime(2017, 12, 31)\n",
    "\n",
    "ws.output_notebook()\n",
    "\n",
    "traffic_generator = ws.get_traffic_generator(start_date, end_date, projects=(project,))\n",
    "df = pd.DataFrame(list(traffic_generator))"
   ]
  },
  {
   "cell_type": "code",
   "execution_count": null,
   "metadata": {},
   "outputs": [],
   "source": [
    "# Change DF index to a datetime index\n",
    "df = df.set_index(pd.DatetimeIndex(df['date']))\n",
    "df = df.drop(['date'], axis=1)\n",
    "\n",
    "# Calculate rolling mean (week)\n",
    "df['rolling'] = df['hits'].rolling(window=24*7, min_periods=3).mean()\n",
    "\n",
    "df.head()"
   ]
  },
  {
   "cell_type": "markdown",
   "metadata": {},
   "source": [
    "### 1.1 A (random) week of Wikipedia requests"
   ]
  },
  {
   "cell_type": "code",
   "execution_count": null,
   "metadata": {},
   "outputs": [],
   "source": [
    "data = []\n",
    "\n",
    "# Get a subset of one week from original DataFrame and create the trace to plot it\n",
    "random_week_df = df.loc['2017-01-23':'2017-01-29']\n",
    "\n",
    "requests_trace = go.Scatter(\n",
    "    x=random_week_df.index,\n",
    "    y=random_week_df.hits,\n",
    "    name='Requests (EN)',\n",
    "    marker = BBVAnavy\n",
    ")\n",
    "\n",
    "data.append(requests_trace)\n",
    "\n",
    "# Trace the rolling mean of the previous subset\n",
    "rolling_trace = go.Scatter(\n",
    "    x = random_week_df.index,\n",
    "    y = random_week_df.hits.rolling(window=24, min_periods=0).mean(),\n",
    "    name = 'Requests (EN - day mean)',\n",
    "    marker = BBVAaqua\n",
    ")\n",
    "\n",
    "data.append(rolling_trace)\n",
    "\n",
    "# Customize date format\n",
    "requests_date_layout.title=\"Wikipedia requests distribution (one week)\"\n",
    "requests_date_layout.xaxis.tickformat='%a'\n",
    "\n",
    "fig = go.Figure(data=data, layout=requests_date_layout)\n",
    "iplot(fig, image=image_type, image_height=480, image_width=800, filename='serverless.wikipedia.random_week')"
   ]
  },
  {
   "cell_type": "markdown",
   "metadata": {},
   "source": [
    "### 1.2 Plot a whole year of requests of Wikipedia in english"
   ]
  },
  {
   "cell_type": "code",
   "execution_count": null,
   "metadata": {},
   "outputs": [],
   "source": [
    "data = []\n",
    "\n",
    "requests_trace = go.Scatter(\n",
    "    x=df.index,\n",
    "    y=df['hits'],\n",
    "    name='Requests (EN)',\n",
    "    marker = BBVAnavy,\n",
    ")\n",
    "\n",
    "data.append(requests_trace)\n",
    "\n",
    "rolling_trace = go.Scatter(\n",
    "    x=df.index,\n",
    "    y=df['rolling'],\n",
    "    name='Requests (EN - week mean)',\n",
    "    marker = BBVAaqua,\n",
    ")\n",
    "\n",
    "data.append(rolling_trace)\n",
    "\n",
    "# Customize date format\n",
    "requests_date_layout.title=\"Wikipedia requests (2017)\"\n",
    "requests_date_layout.xaxis.tickformat='%b'\n",
    "requests_date_layout.xaxis.nticks=12\n",
    "\n",
    "fig = go.Figure(data=data, layout=requests_date_layout)\n",
    "iplot(fig, image=image_type, image_height=480, image_width=800, filename='serverless.wikipedia.synth_year')"
   ]
  },
  {
   "cell_type": "markdown",
   "metadata": {},
   "source": [
    "## 2. Build a synthetic month of requests\n",
    "\n",
    "Taken the wikipedia traffic shape per hour, simulate a _mean month_ whose requests distibution have the shape of the selected wikipedia project.\n",
    "\n",
    "The resulting scale (i.e. the same total amount of requests in a month) is configurable.\n",
    "\n",
    "Note: The scale (total reqs in a month) can be controlled by using the param `monthly_scale_factor` in `webish_simulator.simulate`"
   ]
  },
  {
   "cell_type": "code",
   "execution_count": null,
   "metadata": {},
   "outputs": [],
   "source": [
    "monthly_scale_factor=100000000 # total reqs in a month\n",
    "\n",
    "month_df = webish_simulator.simulate(df, monthly_scale_factor=monthly_scale_factor)\n",
    "\n",
    "month_df.head()"
   ]
  },
  {
   "cell_type": "markdown",
   "metadata": {},
   "source": [
    "### 2.1 Plot synthetic month"
   ]
  },
  {
   "cell_type": "code",
   "execution_count": null,
   "metadata": {},
   "outputs": [],
   "source": [
    "data = []\n",
    "\n",
    "requests_trace = go.Scatter(\n",
    "    x=month_df.index,\n",
    "    y=month_df.requests,\n",
    "    name='Requests',\n",
    "    marker=BBVAnavy,\n",
    ")\n",
    "\n",
    "data.append(requests_trace)\n",
    "\n",
    "rolling_trace = go.Scatter(\n",
    "    x=month_df.index,\n",
    "    y=month_df.requests.rolling(window=24, min_periods=0).mean(),\n",
    "    name='Requests (day mean)',\n",
    "    marker=BBVAaqua,\n",
    ")\n",
    "\n",
    "data.append(rolling_trace)\n",
    "\n",
    "# Customize date format\n",
    "requests_date_layout.title=\"Requests distribution (synthetic)\"\n",
    "requests_date_layout.xaxis.tickformat='%d'\n",
    "requests_date_layout.xaxis.nticks=30\n",
    "\n",
    "fig = go.Figure(data=data, layout=requests_date_layout)\n",
    "iplot(fig, image=image_type, image_height=480, image_width=800, filename='serverless.wikipedia.synth_month')"
   ]
  },
  {
   "cell_type": "markdown",
   "metadata": {},
   "source": [
    "### 2.2 Calculate costs"
   ]
  },
  {
   "cell_type": "code",
   "execution_count": null,
   "metadata": {
    "scrolled": false
   },
   "outputs": [],
   "source": [
    "ec2_flavors = {\n",
    "    'm3.medium':  1000,\n",
    "    'm4.large':   1500,\n",
    "    'm4.4xlarge': 5000,\n",
    "}\n",
    "\n",
    "month_df = webish_simulator.get_lambda_cost(month_df, MB_per_request=lambda_memory, ms_per_req=lambda_time)\n",
    "\n",
    "break_even = dict()\n",
    "for flavor,reqs in ec2_flavors.items():\n",
    "    month_df = webish_simulator.get_ec2_cost(month_df, flavor=flavor, max_reqs_per_second=reqs )\n",
    "    month_df[flavor+'_break_even'] = month_df['lambda_sum'] - month_df[flavor+'_sum']\n",
    "    break_even[flavor] = webish_simulator.find_breakeven(month_df, flavor)\n",
    "\n",
    "# Get Breakeven points for current DF\n",
    "time_at_break_even = dict()\n",
    "for flavor in ec2_flavors:\n",
    "    if break_even[flavor] is not None:\n",
    "        break_even_row = month_df.loc[month_df['req_sum'] == break_even[flavor]]\n",
    "        time_at_break_even[flavor]=(break_even_row.index[0], break_even_row.lambda_sum[0])\n",
    "    \n",
    "month_df.tail()"
   ]
  },
  {
   "cell_type": "markdown",
   "metadata": {},
   "source": [
    "### 2.3 Plot costs (synthetic month)"
   ]
  },
  {
   "cell_type": "code",
   "execution_count": null,
   "metadata": {
    "scrolled": false
   },
   "outputs": [],
   "source": [
    "# TODO: Show number of instances in \n",
    "data = []\n",
    "from itertools import cycle\n",
    "# color = cycle([BBVAred, BBVAorange, BBVAgreen, BBVAyellow])\n",
    "color = iter([BBVAlight, BBVAaqua, BBVAnavy])\n",
    "\n",
    "lambda_trace = go.Scatter(\n",
    "    x=month_df.index,\n",
    "    y=month_df['lambda_sum'],\n",
    "    name='Lambda',\n",
    "    marker=BBVAcoral,\n",
    ")\n",
    "\n",
    "data.append(lambda_trace)\n",
    "\n",
    "for flavor in ec2_flavors.keys():\n",
    "    ec2_trace = go.Scatter(\n",
    "        x=month_df.index,\n",
    "        y=month_df[flavor + '_sum'],\n",
    "        name=flavor,\n",
    "        marker=next(color),\n",
    "    )\n",
    "\n",
    "    data.append(ec2_trace)\n",
    "\n",
    "# Customize date format\n",
    "time_cost_layout.xaxis.tickformat = '%d'\n",
    "time_cost_layout.xaxis.ticklen=1\n",
    "time_cost_layout.xaxis.nticks=30\n",
    "time_cost_layout.title=\"Cost evolution during a synthetic month (\"+str(lambda_memory)+\" MiB Lambda)\"\n",
    "\n",
    "\n",
    "# Print breakeven points (if they exist)\n",
    "time_cost_layout['annotations']=[]\n",
    "for flavor in ec2_flavors:\n",
    "    if break_even[flavor] is not None:\n",
    "        time_cost_layout['annotations'].append(go.Annotation(\n",
    "                text=\"Break-even (\"+flavor+\")\",\n",
    "                x=time_at_break_even[flavor][0],\n",
    "                y=time_at_break_even[flavor][1]\n",
    "            )\n",
    "        )\n",
    "\n",
    "mylayout = dict(time_cost_layout)\n",
    "mylayout['xaxis']['range']=[datetime(2018, 1, 1), datetime(2018, 1, 31)]\n",
    "mylayout['yaxis']['range']=[0, 120]\n",
    "\n",
    "fig = go.Figure(data=data, layout=mylayout)\n",
    "iplot(fig, image=image_type, image_height=480, image_width=800, filename='serverless.wikipedia.synth_month_costs')"
   ]
  },
  {
   "cell_type": "markdown",
   "metadata": {},
   "source": [
    "## 3. Simulate multiple scenarios with different total requests in a month"
   ]
  },
  {
   "cell_type": "code",
   "execution_count": null,
   "metadata": {
    "scrolled": true
   },
   "outputs": [],
   "source": [
    "lambda_flavor={\n",
    "    'memory':     lambda_memory,\n",
    "    'exec_time':  lambda_time,\n",
    "}\n",
    "ec2_flavors = {\n",
    "    'm3.medium':  1000,\n",
    "    'm4.large':   1500,\n",
    "    'm4.4xlarge': 5000,\n",
    "}\n",
    "\n",
    "x, y = webish_simulator.get_breakeven(df, range(30000000, 800000000, 5000000), ec2_flavors, lambda_flavor)"
   ]
  },
  {
   "cell_type": "code",
   "execution_count": null,
   "metadata": {
    "scrolled": false
   },
   "outputs": [],
   "source": [
    "data = []\n",
    "color = iter([BBVAlight, BBVAaqua, BBVAnavy])\n",
    "\n",
    "for flavor, breakeven_points in y.items():\n",
    "    breakeven_trace = go.Scatter(\n",
    "        x=x,\n",
    "        y=breakeven_points,\n",
    "        name=flavor,\n",
    "        marker=next(color),\n",
    "    )\n",
    "    data.append(breakeven_trace)\n",
    "\n",
    "fig = go.Figure(data=data, layout=breakeven_scale_layout)\n",
    "\n",
    "iplot(fig, image=image_type, image_height=480, image_width=800, filename='serverless.wikipedia.synth_month_costs')"
   ]
  }
 ],
 "metadata": {
  "kernelspec": {
   "display_name": "Python 3",
   "language": "python",
   "name": "python3"
  },
  "language_info": {
   "codemirror_mode": {
    "name": "ipython",
    "version": 3
   },
   "file_extension": ".py",
   "mimetype": "text/x-python",
   "name": "python",
   "nbconvert_exporter": "python",
   "pygments_lexer": "ipython3",
   "version": "3.6.4"
  }
 },
 "nbformat": 4,
 "nbformat_minor": 2
}
