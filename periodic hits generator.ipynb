{
 "cells": [
  {
   "cell_type": "code",
   "execution_count": null,
   "metadata": {},
   "outputs": [],
   "source": [
    "import pandas as pd\n",
    "import datetime\n",
    "import random\n",
    "import math\n",
    "\n",
    "start = datetime.datetime(2018, 1, 1)\n",
    "end = datetime.datetime(2018, 1, 7)\n",
    "freq = 60*24\n",
    "devices = 10000\n",
    "\n",
    "def gen_hits(devices, freq_in_minutes, start, end):\n",
    "    ts = pd.Series(0, index=pd.date_range(start, end, freq='1min'))\n",
    "    #mirar si la frecuencia se puede pasar como otro tipo y no como string/int\n",
    "    def gen_periodic_reqs(start, end, freq_in_minutes):\n",
    "        random_delta = datetime.timedelta(minutes=random.randint(0,freq-1))\n",
    "        rng = pd.date_range(start + random_delta, end, freq=str(freq_in_minutes)+'min')\n",
    "        return pd.Series(1, index=rng)\n",
    "      \n",
    "    for i in range(0, devices):\n",
    "        ts = ts.add(gen_periodic_reqs(start, end, freq), fill_value=0)\n",
    "    return ts\n",
    "\n",
    "\n",
    "ts = pd.Series(0, index=pd.date_range(start, end, freq='1min'))\n",
    "dfy=dfy.drop(['growth_factor'], axis=1)\n",
    "ts.add\n",
    "ts.interpolate(inplace=True, method='linear')\n",
    "\n",
    "\n",
    "for cursor in ts.iteritem():\n",
    "\n",
    "    \n",
    "    \n",
    "    ts += gen_hits(devices, freq, cursor.index, end)\n",
    "    # now devices becomes delta:\n",
    "    devices = math.ceil(devices*growth - devices))\n",
    "    \n",
    "    \n",
    "\n"
   ]
  },
  {
   "cell_type": "code",
   "execution_count": null,
   "metadata": {},
   "outputs": [],
   "source": [
    "# plotting-related imports\n",
    "import matplotlib.pylab as plt\n",
    "%matplotlib inline\n",
    "\n",
    "plt.plot(ts, color='blue', label='hits')"
   ]
  },
  {
   "cell_type": "code",
   "execution_count": null,
   "metadata": {},
   "outputs": [],
   "source": [
    "ts['kk']=(1*len(ts))\n",
    "ts['kk2']=(2*len(ts))\n",
    "ts['kk2']"
   ]
  }
 ],
 "metadata": {
  "kernelspec": {
   "display_name": "Python 3",
   "language": "python",
   "name": "python3"
  },
  "language_info": {
   "codemirror_mode": {
    "name": "ipython",
    "version": 3
   },
   "file_extension": ".py",
   "mimetype": "text/x-python",
   "name": "python",
   "nbconvert_exporter": "python",
   "pygments_lexer": "ipython3",
   "version": "3.6.3"
  }
 },
 "nbformat": 4,
 "nbformat_minor": 2
}
