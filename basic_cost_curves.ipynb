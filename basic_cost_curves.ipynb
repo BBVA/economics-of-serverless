{
 "cells": [
  {
   "cell_type": "markdown",
   "metadata": {},
   "source": [
    "# Serverless cost curves\n",
    "\n",
    "This notebook calculates costs for some EC2 and Lambda flavors by taking a uniform distribution of requests during a whole month\n"
   ]
  },
  {
   "cell_type": "markdown",
   "metadata": {},
   "source": [
    "## 0. Initial setup\n",
    "\n",
    "### Imports"
   ]
  },
  {
   "cell_type": "code",
   "execution_count": null,
   "metadata": {},
   "outputs": [],
   "source": [
    "from bbva_colors import BBVAcolors\n",
    "import bbva_lambda_tools as lambda_tools\n",
    "import awscosts\n",
    "from plotly.offline import download_plotlyjs, init_notebook_mode, iplot\n",
    "import plotly.graph_objs as go\n",
    "from plotly import tools\n",
    "\n",
    "init_notebook_mode(connected=True)"
   ]
  },
  {
   "cell_type": "markdown",
   "metadata": {},
   "source": [
    "### User variables\n",
    "\n",
    "Modify this to play with different values"
   ]
  },
  {
   "cell_type": "code",
   "execution_count": null,
   "metadata": {},
   "outputs": [],
   "source": [
    "ec2_flavors = ('m3.medium', 'm4.large', 'm4.4xlarge')\n",
    "reqs_range = range(1, 3000)\n",
    "\n",
    "lambda_memory = 128 # MiB\n",
    "lambda_time = 200 # ms\n",
    "throughput_ratio=1\n",
    "\n",
    "image_type = None\n",
    "# Uncomment next line to produce pngs\n",
    "# image_type = 'png'"
   ]
  },
  {
   "cell_type": "markdown",
   "metadata": {},
   "source": [
    "## 1. Generate and plot costs for uniform distribution of requests\n",
    "\n",
    "### 1.1 Request generation and costs calculation"
   ]
  },
  {
   "cell_type": "code",
   "execution_count": null,
   "metadata": {},
   "outputs": [],
   "source": [
    "cost = lambda_tools.generate_costs_in_month(\n",
    "    requests_range=range(5, 3000),\n",
    "    flavors=ec2_flavors,\n",
    "    memory=lambda_memory,\n",
    "    time=lambda_time,\n",
    ")"
   ]
  },
  {
   "cell_type": "markdown",
   "metadata": {},
   "source": [
    "### 1.2 Plot"
   ]
  },
  {
   "cell_type": "code",
   "execution_count": null,
   "metadata": {
    "scrolled": false
   },
   "outputs": [],
   "source": [
    "figure = lambda_tools.draw_costs_by_requests(cost)\n",
    "\n",
    "iplot(figure, image=image_type)"
   ]
  },
  {
   "cell_type": "markdown",
   "metadata": {},
   "source": [
    "## 2. Generate costs with a range of throughput ratios"
   ]
  },
  {
   "cell_type": "code",
   "execution_count": null,
   "metadata": {},
   "outputs": [],
   "source": [
    "ratio_list = [1, 5, 10]\n",
    "\n",
    "def generate_multi_ratio(ratio_list, requests_per_second, flavors, memory, time):\n",
    "    costs = dict()\n",
    "    for ratio in ratio_list:\n",
    "        costs[ratio] = lambda_tools.generate_costs_in_month(\n",
    "            reqs_range, ec2_flavors, lambda_memory, lambda_time, ratio\n",
    "        )\n",
    "    return costs\n",
    "\n",
    "costs = generate_multi_ratio(ratio_list, reqs_range, ec2_flavors, lambda_memory, lambda_time)"
   ]
  },
  {
   "cell_type": "code",
   "execution_count": null,
   "metadata": {},
   "outputs": [],
   "source": [
    "titles = []\n",
    "rows_number = len(ratio_list)\n",
    "\n",
    "row = 1\n",
    "\n",
    "fig = tools.make_subplots(\n",
    "    rows=rows_number,\n",
    "    cols=1,\n",
    "    shared_xaxes=False,\n",
    "    subplot_titles = [\n",
    "        f'Throughput ratio α={i} ({lambda_memory} MiB, {lambda_time} ms Lambda)' for i in ratio_list\n",
    "    ]\n",
    ")\n",
    "\n",
    "for ratio, cost in costs.items():\n",
    "    fig['layout']['xaxis{:d}'.format(row)].update(\n",
    "        title='reqs/s',\n",
    "        type='log',\n",
    "    )\n",
    "    fig['layout']['yaxis{:d}'.format(row)].update(\n",
    "        title='Monthly cost ($)',\n",
    "        type='log',\n",
    "    )\n",
    "\n",
    "    color = iter(\n",
    "        [BBVAcolors['light'], BBVAcolors['aqua'], BBVAcolors['navy'], BBVAcolors['coral']]\n",
    "    )\n",
    "    showlegend = True if row == rows_number else False\n",
    "    \n",
    "    for flavor in cost.keys():\n",
    "        x = list()\n",
    "        y = list()\n",
    "        for reqs, price in cost[flavor].items():\n",
    "            x.append(reqs)\n",
    "            y.append(price)\n",
    "\n",
    "        trace = go.Scatter(\n",
    "            x=x,\n",
    "            y=y,\n",
    "            name=flavor,\n",
    "            marker=next(color),\n",
    "            showlegend=showlegend,\n",
    "        )\n",
    "        fig.append_trace(trace, row, 1)\n",
    "    row = row + 1\n",
    "\n",
    "fig['layout'].update(\n",
    "    title='<b>Monthly cost by number of requests per second</b>',\n",
    "    legend=dict(\n",
    "        orientation='h'\n",
    "    ),\n",
    "    width=950,\n",
    "    height=400*rows_number,\n",
    ")\n",
    "\n",
    "iplot(\n",
    "    fig,\n",
    "    image=image_type,\n",
    "    image_height=1024,\n",
    "    image_width=1000,\n",
    ")\n",
    "\n"
   ]
  },
  {
   "cell_type": "code",
   "execution_count": null,
   "metadata": {},
   "outputs": [],
   "source": [
    "memory_list = [128, 1024, 2048]\n",
    "\n",
    "param_list = memory_list\n",
    "\n",
    "def generate_multi_memory(param_list, requests_per_second, flavors, time, throughput_ratio=1):\n",
    "    costs = dict()\n",
    "    for param in param_list:\n",
    "        costs[param] = lambda_tools.generate_costs_in_month(\n",
    "            reqs_range, ec2_flavors, param, lambda_time, throughput_ratio,\n",
    "        )\n",
    "    return costs\n",
    "\n",
    "costs = generate_multi_memory(param_list, reqs_range, ec2_flavors, lambda_time)\n"
   ]
  },
  {
   "cell_type": "code",
   "execution_count": null,
   "metadata": {},
   "outputs": [],
   "source": [
    "titles = []\n",
    "rows_number = len(param_list)\n",
    "\n",
    "row = 1\n",
    "\n",
    "fig = tools.make_subplots(\n",
    "    rows=rows_number,\n",
    "    cols=1,\n",
    "    shared_xaxes=False,\n",
    "    subplot_titles = [\n",
    "        f'Throughput ratio α={throughput_ratio} ({i} MiB, {lambda_time} ms Lambda)' for i in param_list\n",
    "    ]\n",
    ")\n",
    "\n",
    "\n",
    "for param, cost in costs.items():\n",
    "    fig['layout']['xaxis{:d}'.format(row)].update(\n",
    "        title='reqs/s',\n",
    "        type='log',\n",
    "    )\n",
    "    fig['layout']['yaxis{:d}'.format(row)].update(\n",
    "        title='Monthly cost ($)',\n",
    "        type='log',\n",
    "    )\n",
    "\n",
    "    color = iter(\n",
    "        [BBVAcolors['light'], BBVAcolors['aqua'], BBVAcolors['navy'], BBVAcolors['coral']]\n",
    "    )\n",
    "    showlegend = True if row == rows_number else False\n",
    "    \n",
    "    for flavor in cost.keys():\n",
    "        x = list()\n",
    "        y = list()\n",
    "        for reqs, price in cost[flavor].items():\n",
    "            x.append(reqs)\n",
    "            y.append(price)\n",
    "\n",
    "        trace = go.Scatter(\n",
    "            x=x,\n",
    "            y=y,\n",
    "            name=flavor,\n",
    "            marker=next(color),\n",
    "            showlegend=showlegend,\n",
    "        )\n",
    "        fig.append_trace(trace, row, 1)\n",
    "    row = row + 1\n",
    "\n",
    "fig['layout'].update(\n",
    "    title='<b>Monthly cost by number of requests per second</b>',\n",
    "    legend=dict(\n",
    "        orientation='h'\n",
    "    ),\n",
    "    width=800,\n",
    "    height=1000,\n",
    ")\n",
    "\n",
    "iplot(\n",
    "    fig,\n",
    "    image=image_type,\n",
    "    image_height=1024,\n",
    "    image_width=800,\n",
    ")\n"
   ]
  }
 ],
 "metadata": {
  "kernelspec": {
   "display_name": "Python 3",
   "language": "python",
   "name": "python3"
  },
  "language_info": {
   "codemirror_mode": {
    "name": "ipython",
    "version": 3
   },
   "file_extension": ".py",
   "mimetype": "text/x-python",
   "name": "python",
   "nbconvert_exporter": "python",
   "pygments_lexer": "ipython3",
   "version": "3.6.4"
  }
 },
 "nbformat": 4,
 "nbformat_minor": 2
}
