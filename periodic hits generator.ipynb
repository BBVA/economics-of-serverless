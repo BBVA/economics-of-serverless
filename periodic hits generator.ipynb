{
 "cells": [
  {
   "cell_type": "code",
   "execution_count": null,
   "metadata": {},
   "outputs": [],
   "source": [
    "import pandas as pd\n",
    "import datetime\n",
    "import random\n",
    "import math\n",
    "import collections\n",
    "\n",
    "period_in_seconds = 5*60  # 5-min period\n",
    "devices = 10\n",
    "\n",
    "# start = datetime.datetime.now()\n",
    "start = datetime.datetime(2018, 1, 1)\n",
    "\n",
    "# Generate hits values for n devices in a time period\n",
    "gen_data = (start + datetime.timedelta(seconds=random.randrange(period_in_seconds)) for i in range (0, devices))\n",
    "hits = collections.Counter(gen_data)\n",
    "\n",
    "# Generate 1 period TimeSeries of zero values, and add our hits to each time bucket\n",
    "ts = pd.Series(0, index=pd.date_range(start, start+datetime.timedelta(seconds=period_in_seconds-1), freq='1s'))\n",
    "ts = ts.add(pd.Series((i for i in hits.values()), index=hits.keys()), fill_value=0)\n",
    "\n",
    "\n"
   ]
  },
  {
   "cell_type": "code",
   "execution_count": null,
   "metadata": {},
   "outputs": [],
   "source": [
    "# plotting-related imports\n",
    "import matplotlib.pylab as plt\n",
    "%matplotlib inline\n",
    "\n",
    "plt.plot(ts, color='blue', label='hits')"
   ]
  }
 ],
 "metadata": {
  "kernelspec": {
   "display_name": "Python 3",
   "language": "python",
   "name": "python3"
  },
  "language_info": {
   "codemirror_mode": {
    "name": "ipython",
    "version": 3
   },
   "file_extension": ".py",
   "mimetype": "text/x-python",
   "name": "python",
   "nbconvert_exporter": "python",
   "pygments_lexer": "ipython3",
   "version": "3.6.3"
  }
 },
 "nbformat": 4,
 "nbformat_minor": 2
}
