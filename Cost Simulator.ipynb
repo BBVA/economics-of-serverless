{
 "cells": [
  {
   "cell_type": "markdown",
   "metadata": {},
   "source": [
    "# Lambda cost simuator for web-based traffic\n",
    "\n",
    "This notebook simulates a syntetic month of requests based on wikipedia traffic shape. You can tune the `monthly_scale_factor` to adjust the total number of requests for the month.\n",
    "\n",
    "After simulation, the total cost for the requests is calculated, plotting nice graphs with [plotly](https://plot.ly/).\n",
    "\n",
    "We have choosen english wikipedia as source data, as it can be a fair representation of worldwide traffic. Other languages from wikipedia can be used to localize it further."
   ]
  },
  {
   "cell_type": "code",
   "execution_count": null,
   "metadata": {},
   "outputs": [],
   "source": [
    "# dataframe-related imports\n",
    "import wikimedia_scraper as ws\n",
    "from datetime import datetime\n",
    "import pandas as pd\n",
    "import numpy as np\n",
    "import webish_simulator"
   ]
  },
  {
   "cell_type": "markdown",
   "metadata": {},
   "source": [
    "# Get data from wikipedia source\n",
    "\n",
    "Parameters to tune:\n",
    "- `project`: project from wikipedia (language) to use.\n",
    "- `start_date` and `end_date`: date range to extract from wikipedia."
   ]
  },
  {
   "cell_type": "code",
   "execution_count": null,
   "metadata": {},
   "outputs": [],
   "source": [
    "project = 'en'\n",
    "\n",
    "start_date = datetime(2016, 11,  1)\n",
    "end_date   = datetime(2017, 1, 31)\n",
    "\n",
    "ws.output_notebook()\n",
    "\n",
    "traffic_generator = ws.get_traffic_generator(start_date, end_date, projects=(project,))\n",
    "df = pd.DataFrame(list(traffic_generator))\n",
    "\n",
    "df = df.set_index(pd.DatetimeIndex(df['date']))\n",
    "df = df.drop(['date'], axis=1)\n",
    "df = df.loc[df['project']==project]\n",
    "\n",
    "df.head()"
   ]
  },
  {
   "cell_type": "markdown",
   "metadata": {},
   "source": [
    "## Simulation of a synthetic month\n",
    "\n",
    "Taken the wikipedia traffic shape per hour, simulate a _mean month_ that has the scale (i.e. the same total amount of requests in a month) of the selected wikipedia project.\n",
    "\n",
    "Note: The scale (total reqs in a month) can be controlled by using the param `monthly_scale_factor` in `webish_simulator.simulate`"
   ]
  },
  {
   "cell_type": "code",
   "execution_count": null,
   "metadata": {},
   "outputs": [],
   "source": [
    "# monthly_scale_factor=1000000000\n",
    "# month_df = webish_simulator.simulate(df, monthly_scale_factor=monthly_scale_factor)\n",
    "\n",
    "month_df = webish_simulator.simulate(df)\n",
    "\n",
    "month_df.head()"
   ]
  },
  {
   "cell_type": "markdown",
   "metadata": {},
   "source": [
    "## Calculate costs"
   ]
  },
  {
   "cell_type": "code",
   "execution_count": null,
   "metadata": {},
   "outputs": [],
   "source": [
    "month_df = webish_simulator.get_cost(month_df, MB_per_request=512, ms_per_req=200, max_reqs_per_second=1000)\n",
    "\n",
    "month_df.head()"
   ]
  },
  {
   "cell_type": "markdown",
   "metadata": {},
   "source": [
    "## Plotly setup"
   ]
  },
  {
   "cell_type": "code",
   "execution_count": null,
   "metadata": {},
   "outputs": [],
   "source": [
    "from plotly.offline import download_plotlyjs, init_notebook_mode, iplot\n",
    "import plotly.graph_objs as go\n",
    "\n",
    "init_notebook_mode(connected=True)\n",
    "\n",
    "day_cost_layout = go.Layout(\n",
    "    title='WW Traffic Monthly Cost',\n",
    "    legend=dict(orientation=\"h\"),\n",
    "    xaxis=dict(\n",
    "        title='Day of month',\n",
    "        autorange=True\n",
    "    ),\n",
    "    yaxis=dict(\n",
    "        title='Cost ($)'\n",
    "    )\n",
    ")\n",
    "\n",
    "breakeven_scale_layout = go.Layout(\n",
    "    title='Break-even - scale',\n",
    "    legend=dict(orientation=\"h\"),\n",
    "    xaxis=dict(\n",
    "        title='Mean requests per second',\n",
    "        autorange=True,\n",
    "#         type='log'\n",
    "    ),\n",
    "    yaxis=dict(\n",
    "        title='% total reqs at breakeven '\n",
    "    )\n",
    ")"
   ]
  },
  {
   "cell_type": "markdown",
   "metadata": {},
   "source": [
    "## Plot Wikipedia costs"
   ]
  },
  {
   "cell_type": "code",
   "execution_count": null,
   "metadata": {
    "scrolled": true
   },
   "outputs": [],
   "source": [
    "# TODO: Show number of instances in \n",
    "data = []\n",
    "\n",
    "lambda_trace = go.Scatter(\n",
    "    x=month_df.index,\n",
    "    y=month_df['lambda_sum'],\n",
    "    name='Lambda'\n",
    ")\n",
    "\n",
    "data.append(lambda_trace)\n",
    "\n",
    "ec2_trace = go.Scatter(\n",
    "    x=month_df.index,\n",
    "    y=month_df['ec2_sum'],\n",
    "    name='EC2'\n",
    ")\n",
    "\n",
    "data.append(ec2_trace)\n",
    "\n",
    "fig = go.Figure(data=data, layout=day_cost_layout)\n",
    "iplot(fig)"
   ]
  },
  {
   "cell_type": "markdown",
   "metadata": {},
   "source": [
    "# Simulate multiple scenarios with different total requests in a month"
   ]
  },
  {
   "cell_type": "code",
   "execution_count": null,
   "metadata": {},
   "outputs": [],
   "source": [
    "x, y = webish_simulator.get_breakeven(df, range(0, 100000000, 500000))\n",
    "\n",
    "# devices_list = np.logspace(0, 100000000, num=10, endpoint=True, base=10.0)\n",
    "\n",
    "# x, y = webish_simulator.get_breakeven(df, devices_list)"
   ]
  },
  {
   "cell_type": "code",
   "execution_count": null,
   "metadata": {},
   "outputs": [],
   "source": [
    "data = []\n",
    "\n",
    "breakeven_trace = go.Scatter(\n",
    "    x=x,\n",
    "    y=y\n",
    ")\n",
    "data.append(breakeven_trace)\n",
    "    \n",
    "fig = go.Figure(data=data, layout=breakeven_scale_layout)\n",
    "\n",
    "iplot(fig)"
   ]
  }
 ],
 "metadata": {
  "kernelspec": {
   "display_name": "Python 3",
   "language": "python",
   "name": "python3"
  },
  "language_info": {
   "codemirror_mode": {
    "name": "ipython",
    "version": 3
   },
   "file_extension": ".py",
   "mimetype": "text/x-python",
   "name": "python",
   "nbconvert_exporter": "python",
   "pygments_lexer": "ipython3",
   "version": "3.6.4"
  }
 },
 "nbformat": 4,
 "nbformat_minor": 2
}
