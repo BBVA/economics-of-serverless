{
 "cells": [
  {
   "cell_type": "markdown",
   "metadata": {},
   "source": [
    "# Serverless cost curves\n",
    "\n",
    "This notebook calculates costs for some EC2 and Lambda flavors by taking a uniform distribution of requests during a whole month\n"
   ]
  },
  {
   "cell_type": "markdown",
   "metadata": {},
   "source": [
    "## 0. Initial setup\n",
    "\n",
    "### Imports"
   ]
  },
  {
   "cell_type": "code",
   "execution_count": null,
   "metadata": {},
   "outputs": [],
   "source": [
    "from bbva_colors import BBVAcolors\n",
    "import awscosts\n",
    "from plotly.offline import download_plotlyjs, init_notebook_mode, iplot\n",
    "import plotly.graph_objs as go\n",
    "\n",
    "init_notebook_mode(connected=True)"
   ]
  },
  {
   "cell_type": "code",
   "execution_count": null,
   "metadata": {},
   "outputs": [],
   "source": [
    "SECONDS_IN_A_MONTH = 3600 * 24 * 30"
   ]
  },
  {
   "cell_type": "markdown",
   "metadata": {},
   "source": [
    "### User variables\n",
    "\n",
    "Modify this to play with different values"
   ]
  },
  {
   "cell_type": "code",
   "execution_count": null,
   "metadata": {},
   "outputs": [],
   "source": [
    "ec2_flavors = ('m3.medium', 'm4.large', 'm4.4xlarge')\n",
    "reqs_range = range(1, 10000, 10)\n",
    "\n",
    "lambda_memory = 128 # MiB\n",
    "lambda_time = 200 # ms\n",
    "\n",
    "image_type = None\n",
    "# Uncomment next line to produce pngs\n",
    "# image_type = 'png'"
   ]
  },
  {
   "cell_type": "markdown",
   "metadata": {},
   "source": [
    "## 1. Generate and plot costs for uniform distribution of requests\n",
    "\n",
    "### 1.1 Request generation and costs calculation"
   ]
  },
  {
   "cell_type": "code",
   "execution_count": null,
   "metadata": {},
   "outputs": [],
   "source": [
    "costs = list()\n",
    "\n",
    "# for throughput_ratio in [1, 5, 10]:\n",
    "throughput_ratio = 1\n",
    "cost = dict()\n",
    "cost['throughput_ratio'] = throughput_ratio\n",
    "cost['data'] = list()\n",
    "cost=dict()\n",
    "\n",
    "for flavor in ec2_flavors:\n",
    "    myec2 = awscosts.EC2(\n",
    "        flavor,\n",
    "        MB_per_req=lambda_memory,\n",
    "        ms_per_req=lambda_time,\n",
    "        throughput_ratio=throughput_ratio,\n",
    "    )\n",
    "    cost[flavor]=dict()\n",
    "    for reqs_per_second in reqs_range:\n",
    "        cost[flavor][reqs_per_second] = myec2.get_cost_per_second(reqs_per_second) * SECONDS_IN_A_MONTH\n",
    "\n",
    "mylambda = awscosts.Lambda(\n",
    "    MB_per_req=lambda_memory,\n",
    "    ms_per_req=lambda_time,\n",
    ")\n",
    "cost['lambda']=dict()\n",
    "for reqs_per_second in reqs_range:\n",
    "    requests_per_month = reqs_per_second * SECONDS_IN_A_MONTH\n",
    "    cost['lambda'][reqs_per_second] = mylambda.get_cost(requests_per_month, reset_free_tier=True)\n",
    "\n"
   ]
  },
  {
   "cell_type": "markdown",
   "metadata": {},
   "source": [
    "### 1.2 Plot"
   ]
  },
  {
   "cell_type": "code",
   "execution_count": null,
   "metadata": {
    "scrolled": false
   },
   "outputs": [],
   "source": [
    "title = 'Monthy cost by number of reqs/s'\n",
    "data = []\n",
    "\n",
    "color = iter(\n",
    "    [BBVAcolors['light'], BBVAcolors['aqua'], BBVAcolors['navy'], BBVAcolors['coral']]\n",
    ")\n",
    "\n",
    "for flavor in cost.keys():\n",
    "    x = list()\n",
    "    y = list()\n",
    "    for reqs, price in cost[flavor].items():\n",
    "        x.append(reqs)\n",
    "        y.append(price)\n",
    "\n",
    "    trace = go.Scatter(\n",
    "        x=x,\n",
    "        y=y,\n",
    "        name=flavor,\n",
    "        marker=next(color)\n",
    "    )\n",
    "    data.append(trace)\n",
    "\n",
    "\n",
    "layout = go.Layout(\n",
    "    title=title,\n",
    "    legend=dict(\n",
    "        orientation=\"h\",\n",
    "        y=-.2,\n",
    "    ),\n",
    "    width=1000,\n",
    "    height=800,\n",
    "    xaxis=dict(\n",
    "        title='<b>reqs/sec</b>',\n",
    "        type='log'\n",
    "    ),\n",
    "    yaxis=dict(\n",
    "        title='<b>Monthly cost ($)</b>',\n",
    "        type='log'\n",
    "    )\n",
    ")\n",
    "\n",
    "figure = go.Figure(data=data, layout=layout)\n",
    "\n",
    "iplot(figure, image=image_type)"
   ]
  },
  {
   "cell_type": "code",
   "execution_count": null,
   "metadata": {},
   "outputs": [],
   "source": []
  }
 ],
 "metadata": {
  "kernelspec": {
   "display_name": "Python 3",
   "language": "python",
   "name": "python3"
  },
  "language_info": {
   "codemirror_mode": {
    "name": "ipython",
    "version": 3
   },
   "file_extension": ".py",
   "mimetype": "text/x-python",
   "name": "python",
   "nbconvert_exporter": "python",
   "pygments_lexer": "ipython3",
   "version": "3.6.4"
  }
 },
 "nbformat": 4,
 "nbformat_minor": 2
}
