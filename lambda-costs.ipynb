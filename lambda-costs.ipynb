{
 "cells": [
  {
   "cell_type": "code",
   "execution_count": null,
   "metadata": {
    "collapsed": true
   },
   "outputs": [],
   "source": [
    "def get_monthly_cost(reqs, req_mem, req_time, free_tier=True):\n",
    "    free_reqs = 1000000\n",
    "    million_reqs = 1000000\n",
    "    cost_per_million_reqs = .20\n",
    "    \n",
    "    executions = (reqs - free_reqs) if free_tier else reqs\n",
    "    \n",
    "    req_costs = (executions / million_reqs) * cost_per_million_reqs if executions > 0 else 0\n",
    "               \n",
    "    compute_seconds = reqs * (req_time / 1000)\n",
    "    compute_GB_seconds = compute_seconds * (req_mem / 1024)\n",
    "    compute = (compute_GB_seconds - 400000) if free_tier else compute_GB_seconds\n",
    "    \n",
    "    cost_per_GB_seconds = 0.00001667\n",
    "    compute_costs = compute * cost_per_GB_seconds if compute > 0 else 0\n",
    "    \n",
    "    return round(req_costs + compute_costs, 2)"
   ]
  },
  {
   "cell_type": "code",
   "execution_count": null,
   "metadata": {},
   "outputs": [],
   "source": [
    "_million_reqs = 1000000\n",
    "\n",
    "# Free tier, monthly freebies\n",
    "_free_reqs = _million_reqs\n",
    "_free_compute_GB_s = 400000\n",
    "\n",
    "_remaining_free_hits = _free_reqs\n",
    "_remaining_free_GB_s = _free_compute_GB_s\n",
    "\n",
    "_cost_per_million_reqs = .20\n",
    "_cost_per_GB_s = 0.00001667\n",
    "\n",
    "_mem_per_req_MB = 128 \n",
    "_time_per_req_ms = 500\n",
    "\n",
    "def reset_free_tier_counters():\n",
    "    global _remaining_free_hits\n",
    "    _remaining_free_hits = _free_reqs\n",
    "    \n",
    "    global _remaining_free_GB_s \n",
    "    _remaining_free_GB_s = _free_compute_GB_s\n",
    "\n",
    "def __get_free_tier_discount(resources, remaining_resources):\n",
    "    return (0, remaining_resources-resources) if (remaining_resources > resources) \\\n",
    "        else (resources-remaining_resources, 0)\n",
    "    \n",
    "def get_hourly_cost(date, reqs):\n",
    "    if date.day == 1 and date.hour == 0:\n",
    "        reset_free_tier_counters()\n",
    "    \n",
    "    global _remaining_free_hits\n",
    "    (reqs, _remaining_free_hits) = __get_free_tier_discount(reqs, _remaining_free_hits)\n",
    "\n",
    "    compute_GB_s = reqs * _mem_per_req_MB/1024 * _time_per_req_ms/1000\n",
    "\n",
    "    global _remaining_free_GB_s\n",
    "    (compute_GB_s, _remaining_free_GB_s) = __get_free_tier_discount(compute_GB_s, _remaining_free_GB_s)\n",
    "        \n",
    "    return (reqs / _million_reqs) * _cost_per_million_reqs + compute_GB_s * _cost_per_GB_s"
   ]
  }
 ],
 "metadata": {
  "kernelspec": {
   "display_name": "Python 3",
   "language": "python",
   "name": "python3"
  },
  "language_info": {
   "codemirror_mode": {
    "name": "ipython",
    "version": 3
   },
   "file_extension": ".py",
   "mimetype": "text/x-python",
   "name": "python",
   "nbconvert_exporter": "python",
   "pygments_lexer": "ipython3",
   "version": "3.6.3"
  }
 },
 "nbformat": 4,
 "nbformat_minor": 2
}
