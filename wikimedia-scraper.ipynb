{
 "cells": [
  {
   "cell_type": "markdown",
   "metadata": {},
   "source": [
    "# Wikimedia data\n",
    "Wikimedia Downloads: Analytics Datasets Info about Pageviews, mediacounts and unique devices:\n",
    "Pageviews since may 2015:\n",
    "https://dumps.wikimedia.org/other/pageviews/[YEAR]/[YEAR]-[2-DIGIT-MONTH]/projectviews-YYYYMMDD-HH0000"
   ]
  },
  {
   "cell_type": "code",
   "execution_count": 45,
   "metadata": {},
   "outputs": [],
   "source": [
    "from datetime import datetime, timedelta\n",
    "\n",
    "def time_range(init, end):\n",
    "    while init<end:\n",
    "        yield init\n",
    "        init+=timedelta(hours=1)   \n",
    "    \n",
    "def explode_time(date):\n",
    "    return {\n",
    "        \"year\": date.year,\n",
    "        \"month\": date.month,\n",
    "        \"day\": date.day,\n",
    "        \"hour\": date.hour,\n",
    "    }\n",
    "\n",
    "def gen_url(exploded_date):\n",
    "    return \"https://dumps.wikimedia.org/other/pageviews/{year}/{year}-{month:02d}/projectviews-{year}{month:02d}{day:02d}-{hour:02d}0000\".format(**exploded_date)\n",
    "\n",
    "exploded_dates = map(explode_time, time_range(datetime(2016,1,1), datetime(2017,1,31)))\n",
    "urls = map(gen_url, exploded_dates)\n",
    "\n",
    "#list(urls)"
   ]
  }
 ],
 "metadata": {
  "kernelspec": {
   "display_name": "Python 3",
   "language": "python",
   "name": "python3"
  },
  "language_info": {
   "codemirror_mode": {
    "name": "ipython",
    "version": 3
   },
   "file_extension": ".py",
   "mimetype": "text/x-python",
   "name": "python",
   "nbconvert_exporter": "python",
   "pygments_lexer": "ipython3",
   "version": "3.6.2"
  }
 },
 "nbformat": 4,
 "nbformat_minor": 2
}
