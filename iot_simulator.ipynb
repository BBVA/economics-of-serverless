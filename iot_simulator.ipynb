{
 "cells": [
  {
   "cell_type": "markdown",
   "metadata": {},
   "source": [
    "# Serverless cost simulator for IoT-based traffic\n",
    "\n",
    "This notebook simulates a synthetic month of requests based on requests generated at configurable periodic intervals.\n"
   ]
  },
  {
   "cell_type": "markdown",
   "metadata": {},
   "source": [
    "## 0. Initial setup\n",
    "\n",
    "### Imports"
   ]
  },
  {
   "cell_type": "code",
   "execution_count": null,
   "metadata": {},
   "outputs": [],
   "source": [
    "from functools import reduce\n",
    "import awscosts\n",
    "import bbva_lambda_tools as lambda_tools"
   ]
  },
  {
   "cell_type": "markdown",
   "metadata": {},
   "source": [
    "### User variables"
   ]
  },
  {
   "cell_type": "code",
   "execution_count": null,
   "metadata": {},
   "outputs": [],
   "source": [
    "image_type = None\n",
    "# Uncomment next line to produce pngs\n",
    "# image_type = 'png'\n",
    "\n",
    "ec2_flavors = ('m3.medium', 'm4.large', 'm4.4xlarge')\n",
    "req_period_list = [3600]  # , 8* 3600, 24 * 3600]\n",
    "# [10, 50, 100, 500, 1000, 5000, 10000, 50000, 100000, 500000, 1000000,\n",
    "# 5000000, 10000000]\n",
    "num_devices_list = reduce(lambda_tools.devices_func, range(1, 13), [10])\n",
    "num_devices_list = list(range(100000, 200000000, 100000))\n",
    "resolution = 60 * 5  # in seconds\n",
    "interval_duration = 30 * 24 * 3600  # one month in seconds\n",
    "lambda_memory = 128\n",
    "lambda_request_duration_ms = 200"
   ]
  },
  {
   "cell_type": "markdown",
   "metadata": {},
   "source": [
    "### Plotly setup"
   ]
  },
  {
   "cell_type": "code",
   "execution_count": null,
   "metadata": {},
   "outputs": [],
   "source": [
    "from plotly.offline import download_plotlyjs, init_notebook_mode, iplot\n",
    "import plotly.graph_objs as go\n",
    "\n",
    "init_notebook_mode(connected=True)"
   ]
  },
  {
   "cell_type": "markdown",
   "metadata": {},
   "source": [
    "### Common objects"
   ]
  },
  {
   "cell_type": "code",
   "execution_count": null,
   "metadata": {},
   "outputs": [],
   "source": [
    "ec2_instances = [awscosts.EC2(\n",
    "    flavor,\n",
    "    MB_per_req=lambda_memory,\n",
    "    ms_per_req=lambda_request_duration_ms\n",
    ") for flavor in ec2_flavors]"
   ]
  },
  {
   "cell_type": "markdown",
   "metadata": {},
   "source": [
    "## 1. Generate and plot costs for IoT-like requests"
   ]
  },
  {
   "cell_type": "code",
   "execution_count": null,
   "metadata": {},
   "outputs": [],
   "source": [
    "for req_period in req_period_list:\n",
    "    costs = []\n",
    "    for num_devices in num_devices_list:\n",
    "        lambda_instance = awscosts.Lambda(\n",
    "            lambda_memory,\n",
    "            lambda_request_duration_ms\n",
    "        )\n",
    "        cost = lambda_tools.aggregate_costs(\n",
    "            req_period,\n",
    "            resolution,\n",
    "            interval_duration,\n",
    "            num_devices,\n",
    "            lambda_instance,\n",
    "            ec2_instances,\n",
    "        )\n",
    "\n",
    "        costs.append(cost)\n",
    "\n",
    "    figure = lambda_tools.draw_costs_by_num_devices(\n",
    "        costs,\n",
    "        ec2_flavors,\n",
    "        req_period\n",
    "    )\n",
    "\n",
    "iplot(figure, image=image_type, image_height=480, image_width=750, filename='serverless.iot.uniform')"
   ]
  },
  {
   "cell_type": "markdown",
   "metadata": {},
   "source": [
    "## 2. Generate Plots and costs for IoT-like traffic with seasonality"
   ]
  },
  {
   "cell_type": "code",
   "execution_count": null,
   "metadata": {},
   "outputs": [],
   "source": [
    "for req_period in req_period_list:\n",
    "    costs = []\n",
    "    for num_devices in num_devices_list:\n",
    "        lambda_instance = awscosts.Lambda(\n",
    "            lambda_memory,\n",
    "            lambda_request_duration_ms\n",
    "        )\n",
    "\n",
    "        # Generate Time Series with bumps at the beggining and the end of the time series:\n",
    "        mean = num_devices // req_period\n",
    "        devices_time_series = list()\n",
    "        for i in range(0, (interval_duration // resolution)):\n",
    "            if i > 0 and i < 1000:\n",
    "                devices_time_series.append(mean / 2)\n",
    "            if i >= 1000 and i < 1500:\n",
    "                devices_time_series.append(mean * 2)\n",
    "            if i >= 1500 and i < 6500:\n",
    "                devices_time_series.append(mean / 2)\n",
    "            if i >= 6500 and i < 8000:\n",
    "                devices_time_series.append(mean * 2)\n",
    "            if i >= 8000:\n",
    "                devices_time_series.append(mean / 2)\n",
    "\n",
    "        cost = lambda_tools.aggregate_costs(\n",
    "            req_period,\n",
    "            resolution,\n",
    "            interval_duration,\n",
    "            num_devices,\n",
    "            lambda_instance,\n",
    "            ec2_instances,\n",
    "            devices_time_series,\n",
    "        )\n",
    "\n",
    "        costs.append(cost)\n",
    "\n",
    "    figure = lambda_tools.draw_costs_by_num_devices(\n",
    "        costs,\n",
    "        ec2_flavors,\n",
    "        req_period\n",
    "    )\n",
    "\n",
    "iplot(figure, image=image_type, image_height=480, image_width=750, filename='serverless.iot.seasonality')"
   ]
  }
 ],
 "metadata": {
  "kernelspec": {
   "display_name": "Python 3",
   "language": "python",
   "name": "python3"
  },
  "language_info": {
   "codemirror_mode": {
    "name": "ipython",
    "version": 3
   },
   "file_extension": ".py",
   "mimetype": "text/x-python",
   "name": "python",
   "nbconvert_exporter": "python",
   "pygments_lexer": "ipython3",
   "version": "3.6.4"
  }
 },
 "nbformat": 4,
 "nbformat_minor": 2
}
