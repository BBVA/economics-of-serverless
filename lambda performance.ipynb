{
 "cells": [
  {
   "cell_type": "markdown",
   "metadata": {},
   "source": [
    "# Lambda performance penalty calculation\n",
    "\n",
    "This notebook exemplarizes the performance penalty when using AWS Lambda, and its factor, compared with better memory-provided lambda instances, or EC2 instances\n",
    "\n",
    "This exploration was inspired by a post in Python subredit called [Cost analysis for python scripts - AWS EC2 vs AWS Lambda](https://www.reddit.com/r/Python/comments/4hebys/cost_analysis_for_python_scripts_aws_ec2_vs_aws/)\n",
    "\n",
    "**TO-DO**: use AWS' algorithm (double CPU performance with 2x memory increase)"
   ]
  },
  {
   "cell_type": "code",
   "execution_count": null,
   "metadata": {},
   "outputs": [],
   "source": [
    "import pandas\n",
    "import numpy as np\n",
    "\n",
    "import matplotlib.pylab as plt\n",
    "%matplotlib inline\n",
    "\n",
    "# Populate df with all lambda's memory flavors (in MB):\n",
    "df = pandas.DataFrame(\n",
    "    index=[128, 192, 256, 320, 384, 448,\n",
    "           512, 576, 640, 704, 768, 832, \n",
    "           896, 960, 1024, 1088, 1152, 1216,\n",
    "           1280, 1344, 1408, 1472, 1536 ],\n",
    "    columns={\"ms\"}\n",
    "    )\n",
    "\n",
    "df['ms']=(np.nan,)*len(df)"
   ]
  },
  {
   "cell_type": "code",
   "execution_count": null,
   "metadata": {},
   "outputs": [],
   "source": [
    "# Our tests with lambda showed the following times (in miliseconds) for a dummy function,\n",
    "# (rare values commented. We want a curve as smooth as possible, and regression calculation is overkill)\n",
    "\n",
    "df.ms[128]=3.329\n",
    "df.ms[256]=1.639\n",
    "df.ms[512]=0.777\n",
    "df.ms[768]=0.510\n",
    "#df.ms[896]=0.552\n",
    "df.ms[1024]=0.380\n",
    "#df.ms[1280]=0.420\n",
    "df.ms[1536]=0.281\n",
    "\n",
    "# the same dummy function in EC2 seems to take the following execution time (miliseconds):\n",
    "MILISECONDS_RUNNING_IN_EC2 = 0.2\n",
    "\n",
    "plt.plot(df, 'ro')\n",
    "plt.show()"
   ]
  },
  {
   "cell_type": "code",
   "execution_count": null,
   "metadata": {},
   "outputs": [],
   "source": [
    "# Interpolation to populate missing values. Quadratic and cubic are fine.\n",
    "\n",
    "df['interpolated2']=df['ms'].interpolate(method='quadratic', axis=0, inplace=False)\n",
    "#df['interpolated3']=df['ms'].interpolate(method='cubic', axis=0, inplace=False)\n",
    "#df['interpolatedP']=df['ms'].interpolate(method='polynomial', order=2, axis=0, inplace=False)\n",
    "\n",
    "plt.plot(df['ms'], 'ro')\n",
    "\n",
    "plt.plot(df['interpolated2'], color='green')\n",
    "\n",
    "plt.show()"
   ]
  },
  {
   "cell_type": "code",
   "execution_count": null,
   "metadata": {},
   "outputs": [],
   "source": [
    "df['factor']=df['interpolated2']/MILISECONDS_RUNNING_IN_EC2\n",
    "\n",
    "df.round(2)"
   ]
  },
  {
   "cell_type": "markdown",
   "metadata": {},
   "source": [
    "**To-do**: copy index and factor and use this array when calculating costs in awscosts package \n",
    "(or outside, in the notebook)"
   ]
  }
 ],
 "metadata": {
  "kernelspec": {
   "display_name": "Python 3",
   "language": "python",
   "name": "python3"
  },
  "language_info": {
   "codemirror_mode": {
    "name": "ipython",
    "version": 3
   },
   "file_extension": ".py",
   "mimetype": "text/x-python",
   "name": "python",
   "nbconvert_exporter": "python",
   "pygments_lexer": "ipython3",
   "version": "3.6.3"
  }
 },
 "nbformat": 4,
 "nbformat_minor": 2
}
