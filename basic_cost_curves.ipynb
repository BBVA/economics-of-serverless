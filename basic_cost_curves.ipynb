{
 "cells": [
  {
   "cell_type": "markdown",
   "metadata": {},
   "source": [
    "# Serverless cost curves\n",
    "\n",
    "This notebook calculates costs for some EC2 and Lambda flavors by taking a uniform distribution of requests during a whole month\n"
   ]
  },
  {
   "cell_type": "markdown",
   "metadata": {},
   "source": [
    "## 0. Initial setup\n",
    "\n",
    "### Imports"
   ]
  },
  {
   "cell_type": "code",
   "execution_count": null,
   "metadata": {},
   "outputs": [],
   "source": [
    "from bbva_colors import BBVAcolors\n",
    "import awscosts\n",
    "from plotly.offline import download_plotlyjs, init_notebook_mode, iplot\n",
    "import plotly.graph_objs as go\n",
    "from plotly import tools\n",
    "\n",
    "init_notebook_mode(connected=True)"
   ]
  },
  {
   "cell_type": "markdown",
   "metadata": {},
   "source": [
    "### User variables\n",
    "\n",
    "Modify this to play with different values"
   ]
  },
  {
   "cell_type": "code",
   "execution_count": null,
   "metadata": {},
   "outputs": [],
   "source": [
    "ec2_flavors = ('m3.medium', 'm4.large', 'm4.4xlarge')\n",
    "reqs_range = range(5, 3000)\n",
    "\n",
    "lambda_memory = 128 # MiB\n",
    "lambda_time = 200 # ms\n",
    "\n",
    "image_type = None\n",
    "# Uncomment next line to produce pngs\n",
    "# image_type = 'png'\n",
    "\n",
    "\n"
   ]
  },
  {
   "cell_type": "markdown",
   "metadata": {},
   "source": [
    "## 1. Generate and plot costs for uniform distribution of requests\n",
    "\n",
    "### 1.1 Request generation and costs calculation"
   ]
  },
  {
   "cell_type": "code",
   "execution_count": null,
   "metadata": {},
   "outputs": [],
   "source": [
    "def generate_costs_in_month(requests_range, flavors, memory, time, throughput_ratio=1):\n",
    "    cost = dict()\n",
    "    SECONDS_IN_A_MONTH = 3600 * 24 * 30\n",
    "    # generate costs for EC2 instances:\n",
    "    for flavor in flavors:\n",
    "        myec2 = awscosts.EC2(\n",
    "            flavor,\n",
    "            MB_per_req=memory,\n",
    "            ms_per_req=time,\n",
    "            throughput_ratio=throughput_ratio,\n",
    "        )\n",
    "        cost[flavor]=dict()\n",
    "        for reqs_per_second in requests_range:\n",
    "            cost[flavor][reqs_per_second] = myec2.get_cost_per_second(reqs_per_second) * SECONDS_IN_A_MONTH\n",
    "\n",
    "    # generate costs for Lambda:\n",
    "    mylambda = awscosts.Lambda(\n",
    "        MB_per_req=memory,\n",
    "        ms_per_req=time,\n",
    "    )\n",
    "    cost['lambda']=dict()\n",
    "    for reqs_per_second in requests_range:\n",
    "        requests_per_month = reqs_per_second * SECONDS_IN_A_MONTH\n",
    "        cost['lambda'][reqs_per_second] = mylambda.get_cost(requests_per_month, reset_free_tier=True)\n",
    "        \n",
    "    return cost"
   ]
  },
  {
   "cell_type": "code",
   "execution_count": null,
   "metadata": {},
   "outputs": [],
   "source": [
    "cost = generate_costs_in_month(\n",
    "    requests_range=range(5, 3000),\n",
    "    flavors=ec2_flavors,\n",
    "    memory=lambda_memory,\n",
    "    time=lambda_time,\n",
    "    throughput_ratio=1,\n",
    ")"
   ]
  },
  {
   "cell_type": "markdown",
   "metadata": {},
   "source": [
    "### 1.2 Plot"
   ]
  },
  {
   "cell_type": "code",
   "execution_count": null,
   "metadata": {
    "scrolled": false
   },
   "outputs": [],
   "source": [
    "title = 'Monthy cost by number of reqs/s'\n",
    "data = []\n",
    "\n",
    "color = iter(\n",
    "    [BBVAcolors['light'], BBVAcolors['aqua'], BBVAcolors['navy'], BBVAcolors['coral']]\n",
    ")\n",
    "\n",
    "for flavor in cost.keys():\n",
    "    x = list()\n",
    "    y = list()\n",
    "    for reqs, price in cost[flavor].items():\n",
    "        x.append(reqs)\n",
    "        y.append(price)\n",
    "\n",
    "    trace = go.Scatter(\n",
    "        x=x,\n",
    "        y=y,\n",
    "        name=flavor,\n",
    "        marker=next(color)\n",
    "    )\n",
    "    data.append(trace)\n",
    "\n",
    "\n",
    "layout = go.Layout(\n",
    "    title=title,\n",
    "    legend=dict(\n",
    "        orientation=\"h\",\n",
    "        y=-.2,\n",
    "    ),\n",
    "    width=1000,\n",
    "    height=800,\n",
    "    xaxis=dict(\n",
    "        title='<b>reqs/sec</b>',\n",
    "        type='log'\n",
    "    ),\n",
    "    yaxis=dict(\n",
    "        title='<b>Monthly cost ($)</b>',\n",
    "        type='log'\n",
    "    )\n",
    ")\n",
    "\n",
    "figure = go.Figure(data=data, layout=layout)\n",
    "\n",
    "iplot(figure, image=image_type)"
   ]
  },
  {
   "cell_type": "markdown",
   "metadata": {},
   "source": [
    "## 2. Generate costs with a range of throughput ratios"
   ]
  },
  {
   "cell_type": "code",
   "execution_count": null,
   "metadata": {},
   "outputs": [],
   "source": [
    "ratio_list = [1, 5, 10]\n",
    "\n",
    "def generate_multi_ratio(ratio_list, requests_per_second, flavors, memory, time):\n",
    "    costs = dict()\n",
    "    for ratio in ratio_list:\n",
    "        costs[ratio] = generate_costs_in_month(\n",
    "            reqs_range, ec2_flavors, lambda_memory, lambda_time, ratio\n",
    "        )\n",
    "    return costs\n",
    "\n",
    "costs = generate_multi_ratio(ratio_list, reqs_range, ec2_flavors, lambda_memory, lambda_time)"
   ]
  },
  {
   "cell_type": "code",
   "execution_count": null,
   "metadata": {},
   "outputs": [],
   "source": [
    "titles = []\n",
    "rows_number = len(ratio_list)\n",
    "\n",
    "row = 1\n",
    "\n",
    "fig = tools.make_subplots(\n",
    "    rows=rows_number,\n",
    "    cols=1,\n",
    "    shared_xaxes=False,\n",
    "    subplot_titles = [\n",
    "        f'Throughput ratio α={i} ({lambda_memory} MiB, {lambda_time} ms Lambda)' for i in ratio_list\n",
    "    ]\n",
    ")\n",
    "\n",
    "for ratio, cost in costs.items():\n",
    "    fig['layout']['xaxis{:d}'.format(row)].update(\n",
    "        title='reqs/s',\n",
    "        type='log',\n",
    "    )\n",
    "    fig['layout']['yaxis{:d}'.format(row)].update(\n",
    "        title='Monthly cost ($)',\n",
    "        type='log'\n",
    "    )\n",
    "\n",
    "    color = iter(\n",
    "        [BBVAcolors['light'], BBVAcolors['aqua'], BBVAcolors['navy'], BBVAcolors['coral']]\n",
    "    )\n",
    "    showlegend = True if row == rows_number else False\n",
    "    \n",
    "    for flavor in cost.keys():\n",
    "        x = list()\n",
    "        y = list()\n",
    "        for reqs, price in cost[flavor].items():\n",
    "            x.append(reqs)\n",
    "            y.append(price)\n",
    "\n",
    "        trace = go.Scatter(\n",
    "            x=x,\n",
    "            y=y,\n",
    "            name=flavor,\n",
    "            marker=next(color),\n",
    "            showlegend=showlegend,\n",
    "        )\n",
    "        fig.append_trace(trace, row, 1)\n",
    "    row = row + 1\n",
    "\n",
    "fig['layout'].update(\n",
    "    title='<b>Monthly cost by number of requests per second</b>',\n",
    "    legend=dict(\n",
    "        orientation='h'\n",
    "    ),\n",
    "    width=800,\n",
    "    height=1000,\n",
    ")\n",
    "\n",
    "iplot(\n",
    "    fig,\n",
    "    image=image_type,\n",
    "    image_height=1024,\n",
    "    image_width=800,\n",
    ")\n",
    "\n"
   ]
  }
 ],
 "metadata": {
  "kernelspec": {
   "display_name": "Python 3",
   "language": "python",
   "name": "python3"
  },
  "language_info": {
   "codemirror_mode": {
    "name": "ipython",
    "version": 3
   },
   "file_extension": ".py",
   "mimetype": "text/x-python",
   "name": "python",
   "nbconvert_exporter": "python",
   "pygments_lexer": "ipython3",
   "version": "3.6.4"
  }
 },
 "nbformat": 4,
 "nbformat_minor": 2
}
